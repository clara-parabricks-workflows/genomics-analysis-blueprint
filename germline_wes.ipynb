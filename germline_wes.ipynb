{
 "cells": [
  {
   "cell_type": "markdown",
   "metadata": {},
   "source": [
    "# Germline Analysis Blueprint "
   ]
  },
  {
   "cell_type": "markdown",
   "metadata": {},
   "source": [
    "This notebook shows how to run Germline analysis on WES data using [Parabricks](https://docs.nvidia.com/clara/parabricks/latest/index.html). Parabricks is a free software suite for performing secondary analysis of next generation sequencing (NGS) DNA and RNA data. It uses GPU acceleration to deliver fast results. Its output matches commonly used software, making it fairly simple to verify the accuracy of the output."
   ]
  },
  {
   "cell_type": "markdown",
   "metadata": {},
   "source": [
    "## Dataset"
   ]
  },
  {
   "cell_type": "markdown",
   "metadata": {},
   "source": [
    "The data set used in this lab is an exome NA12878 from the [NIH](https://ftp-trace.ncbi.nlm.nih.gov/ReferenceSamples/giab/data_indexes/NA12878/sequence.index.NA12878_Illumina_HiSeq_Exome_Garvan_fastq_09252015) sequenced on Illumina. The two fastq files and the HG38 reference files can be downloaded using the `download_data.sh` script. "
   ]
  },
  {
   "cell_type": "code",
   "execution_count": null,
   "metadata": {},
   "outputs": [
    {
     "name": "stdout",
     "output_type": "stream",
     "text": [
      "Data directory found\n",
      "Parabricks data file found\n"
     ]
    }
   ],
   "source": [
    "import os\n",
    "\n",
    "data_dir = \"./data\"\n",
    "\n",
    "if not os.path.exists(data_dir):\n",
    "    os.system(\"sh ./download_data.sh\")\n",
    "else:\n",
    "    print(f'Parabricks data file found')  "
   ]
  },
  {
   "cell_type": "markdown",
   "metadata": {},
   "source": [
    "It can take up to 15 minutes to download and organize the data into the following directory structure. "
   ]
  },
  {
   "cell_type": "markdown",
   "metadata": {},
   "source": [
    "ADD DETAILS HERE FOR WHILE YOU WAIT\n",
    "\n",
    "```\n",
    "data\n",
    "├── NIST7035_TAAGGCGA_L001_R1_001.fastq.gz\n",
    "├── NIST7035_TAAGGCGA_L001_R2_001.fastq.gz\n",
    "└── ref\n",
    "    ├── Homo_sapiens_assembly38.dict\n",
    "    ├── Homo_sapiens_assembly38.fasta\n",
    "    ├── Homo_sapiens_assembly38.fasta.amb\n",
    "    ├── Homo_sapiens_assembly38.fasta.ann\n",
    "    ├── Homo_sapiens_assembly38.fasta.bwt\n",
    "    ├── Homo_sapiens_assembly38.fasta.fai\n",
    "    ├── Homo_sapiens_assembly38.fasta.pac\n",
    "    ├── Homo_sapiens_assembly38.fasta.sa\n",
    "    ├── Homo_sapiens_assembly38.known_indels.vcf.gz\n",
    "    └── Homo_sapiens_assembly38.known_indels.vcf.gz.tbi\n",
    "```"
   ]
  },
  {
   "cell_type": "markdown",
   "metadata": {},
   "source": [
    "Let's verify that the data downloaded correctly. "
   ]
  },
  {
   "cell_type": "code",
   "execution_count": 7,
   "metadata": {},
   "outputs": [
    {
     "name": "stdout",
     "output_type": "stream",
     "text": [
      "NIST7035_TAAGGCGA_L001_R1_001.bam\tNIST7035_TAAGGCGA_L001_R1_001_chrs.txt\n",
      "NIST7035_TAAGGCGA_L001_R1_001.bam.bai\tNIST7035_TAAGGCGA_L001_R2_001.fastq.gz\n",
      "NIST7035_TAAGGCGA_L001_R1_001.fastq.gz\tref\n",
      "NIST7035_TAAGGCGA_L001_R1_001.vcf\n"
     ]
    }
   ],
   "source": [
    "! ls data"
   ]
  },
  {
   "cell_type": "code",
   "execution_count": 8,
   "metadata": {},
   "outputs": [
    {
     "name": "stdout",
     "output_type": "stream",
     "text": [
      "Homo_sapiens_assembly38.dict\n",
      "Homo_sapiens_assembly38.fasta\n",
      "Homo_sapiens_assembly38.fasta.amb\n",
      "Homo_sapiens_assembly38.fasta.ann\n",
      "Homo_sapiens_assembly38.fasta.bwt\n",
      "Homo_sapiens_assembly38.fasta.fai\n",
      "Homo_sapiens_assembly38.fasta.pac\n",
      "Homo_sapiens_assembly38.fasta.sa\n",
      "Homo_sapiens_assembly38.known_indels.vcf.gz\n",
      "Homo_sapiens_assembly38.known_indels.vcf.gz.tbi\n"
     ]
    }
   ],
   "source": [
    "! ls data/ref"
   ]
  },
  {
   "cell_type": "markdown",
   "metadata": {},
   "source": [
    "## Alignment"
   ]
  },
  {
   "cell_type": "markdown",
   "metadata": {},
   "source": [
    "The following cell shows how to run alignment on the FASTQ files in the data directory using [Parabricks fq2bam](https://docs.nvidia.com/clara/parabricks/latest/documentation/tooldocs/man_fq2bam.html). Below is a diagram of the exact steps involved. "
   ]
  },
  {
   "cell_type": "markdown",
   "metadata": {},
   "source": [
    "![fq2bam_diagram](images/fq2bam.png)"
   ]
  },
  {
   "cell_type": "markdown",
   "metadata": {},
   "source": [
    "The software is packaged as a Docker container, therefore the cells to run Parabricks will be executing bash code to run Docker commands. The image comes from the [NVIDIA GPU Container (NGC) Registry](https://catalog.ngc.nvidia.com/orgs/nvidia/teams/clara/containers/clara-parabricks). \n",
    "this is an example of a shell script to do _________"
   ]
  },
  {
   "cell_type": "markdown",
   "metadata": {},
   "source": [
    "```code\n",
    "REF=\"data/ref/Homo_sapiens_assembly38.fasta\"\n",
    "FASTQ_1=\"data/NIST7035_TAAGGCGA_L001_R1_001.fastq.gz\"\n",
    "FASTQ_2=\"data/NIST7035_TAAGGCGA_L001_R2_001.fastq.gz\"\n",
    "OUT_BAM=\"data/NIST7035_TAAGGCGA_L001_R1_001.bam\"\n",
    "\n",
    "pbrun fq2bam \\\n",
    "    --ref ${REF} \\\n",
    "    --in-fq ${FASTQ_1} ${FASTQ_2} \\\n",
    "    --out-bam ${OUT_BAM}\n",
    "```"
   ]
  },
  {
   "cell_type": "code",
   "execution_count": 4,
   "metadata": {},
   "outputs": [
    {
     "name": "stdout",
     "output_type": "stream",
     "text": [
      "Please visit https://docs.nvidia.com/clara/#parabricks for detailed documentation\n",
      "\n",
      "\n",
      "\n",
      "[Parabricks Options Mesg]: Checking argument compatibility\n",
      "[Parabricks Options Mesg]: Set --bwa-options=\"-K #\" to produce compatible pair-ended results with previous versions of\n",
      "fq2bam or BWA MEM.\n",
      "[Parabricks Options Mesg]: Automatically generating ID prefix\n",
      "[Parabricks Options Mesg]: Read group created for /root/germline-blueprint/data/NIST7035_TAAGGCGA_L001_R1_001.fastq.gz\n",
      "and /root/germline-blueprint/data/NIST7035_TAAGGCGA_L001_R2_001.fastq.gz\n",
      "[Parabricks Options Mesg]: @RG\\tID:H7AP8ADXX.1\\tLB:lib1\\tPL:bar\\tSM:sample\\tPU:H7AP8ADXX.1\n",
      "[PB Info 2025-Mar-04 00:19:04] ------------------------------------------------------------------------------\n",
      "[PB Info 2025-Mar-04 00:19:04] ||                 Parabricks accelerated Genomics Pipeline                 ||\n",
      "[PB Info 2025-Mar-04 00:19:04] ||                              Version 4.4.0-1                             ||\n",
      "[PB Info 2025-Mar-04 00:19:04] ||                      GPU-PBBWA mem, Sorting Phase-I                      ||\n",
      "[PB Info 2025-Mar-04 00:19:04] ------------------------------------------------------------------------------\n",
      "[PB Info 2025-Mar-04 00:19:04] Mode = pair-ended-gpu\n",
      "[PB Info 2025-Mar-04 00:19:04] Running with 1 GPU(s), using 4 stream(s) per device with 16 worker threads per GPU\n",
      "[PB Info 2025-Mar-04 00:19:14] #  0  0  0  0  0   0 pool:  0 0 bases/GPU/minute: 0.0 \n",
      "[PB Info 2025-Mar-04 00:19:24] #  0  0  0  0  0   0 pool:  0 0 bases/GPU/minute: 0.0 \n",
      "[PB Info 2025-Mar-04 00:19:34] #  0  0  0  0  0   0 pool:  0 0 bases/GPU/minute: 0.0 \n",
      "[PB Info 2025-Mar-04 00:19:44] #  0  0  0  0  0   0 pool:  0 0 bases/GPU/minute: 0.0 \n",
      "[PB Info 2025-Mar-04 00:19:54] # 34 13  1  3  0   0 pool:  0 52963741 bases/GPU/minute: 317782446.0 \n",
      "[PB Info 2025-Mar-04 00:20:04] # 38 72  0  4  0   0 pool:  0 244957133 bases/GPU/minute: 1151960352.0 \n",
      "[PB Info 2025-Mar-04 00:20:14] # 66 100  2  3  0   0 pool:  0 430329829 bases/GPU/minute: 1112236176.0 \n",
      "[PB Info 2025-Mar-04 00:20:24] # 100 100  1  3  0   0 pool:  1 602460929 bases/GPU/minute: 1032786600.0 \n",
      "[PB Info 2025-Mar-04 00:20:34] # 100 100  2  3  0   0 pool:  1 787827901 bases/GPU/minute: 1112201832.0 \n",
      "[PB Info 2025-Mar-04 00:20:44] # 99 100  2  3  0   0 pool:  2 959955222 bases/GPU/minute: 1032763926.0 \n",
      "[PB Info 2025-Mar-04 00:20:54] # 100 100  3  2  0   0 pool:  2 1132086655 bases/GPU/minute: 1032788598.0 \n",
      "[PB Info 2025-Mar-04 00:21:04] # 100 100  3  2  0   0 pool:  2 1304218224 bases/GPU/minute: 1032789414.0 \n",
      "[PB Info 2025-Mar-04 00:21:14] # 100 100  3  2  0   0 pool:  2 1482965653 bases/GPU/minute: 1072484574.0 \n",
      "[PB Info 2025-Mar-04 00:21:24] # 100 100  3  2  0   0 pool:  2 1655094044 bases/GPU/minute: 1032770346.0 \n",
      "[PB Info 2025-Mar-04 00:21:34] # 100 100  2  2  0   0 pool:  3 1833840572 bases/GPU/minute: 1072479168.0 \n",
      "[PB Info 2025-Mar-04 00:21:44] # 100 102  0  2  0   0 pool:  3 2005969364 bases/GPU/minute: 1032772752.0 \n",
      "[PB Info 2025-Mar-04 00:21:54] # 100 100  3  2  0   0 pool:  2 2178102927 bases/GPU/minute: 1032801378.0 \n",
      "[PB Info 2025-Mar-04 00:22:04] # 100 100  3  2  0   0 pool:  2 2350236430 bases/GPU/minute: 1032801018.0 \n",
      "[PB Info 2025-Mar-04 00:22:14] # 100 101  2  1  0   0 pool:  3 2548849534 bases/GPU/minute: 1191678624.0 \n",
      "[PB Info 2025-Mar-04 00:22:22] Time spent reading: 44.966415 seconds\n",
      "[PB Info 2025-Mar-04 00:22:24] # 92 101  2  2  0   0 pool: 10 2740839809 bases/GPU/minute: 1151941650.0 \n",
      "[PB Info 2025-Mar-04 00:22:34] # 63 100  3  2  0   0 pool: 39 2932828410 bases/GPU/minute: 1151931606.0 \n",
      "[PB Info 2025-Mar-04 00:22:44] # 33 100  3  2  0   0 pool: 69 3124819658 bases/GPU/minute: 1151947488.0 \n",
      "[PB Info 2025-Mar-04 00:22:54] #  4 100  3  2  0   0 pool: 98 3316814701 bases/GPU/minute: 1151970258.0 \n",
      "[PB Info 2025-Mar-04 00:23:04] #  0 78  0  4  0   0 pool: 100 3515427388 bases/GPU/minute: 1191676122.0 \n",
      "[PB Info 2025-Mar-04 00:23:14] #  0 49  0  4  0   0 pool: 100 3707422272 bases/GPU/minute: 1151969304.0 \n",
      "[PB Info 2025-Mar-04 00:23:24] #  0 21  0  4  0   0 pool: 100 3899414172 bases/GPU/minute: 1151951400.0 \n",
      "[PB Info 2025-Mar-04 00:23:32] GPU 0 exited\n",
      "[PB Info 2025-Mar-04 00:23:32] GPU 0 exited\n",
      "[PB Info 2025-Mar-04 00:23:32] GPU 0 exited\n",
      "[PB Info 2025-Mar-04 00:23:32] GPU 0 exited\n",
      "[PB Info 2025-Mar-04 00:23:33] A CPU has exited\n",
      "[PB Info 2025-Mar-04 00:23:34] #  0  0  0  0  0   0 pool: 100 4081781967 bases/GPU/minute: 1094206770.0 \n",
      "[PB Info 2025-Mar-04 00:23:44] #  0  0  0  0  0   0 pool: 100 4081781967 bases/GPU/minute: 0.0 \n",
      "[PB Info 2025-Mar-04 00:23:55] Rate stats (based on sampling every 10 seconds):\n",
      "\tmin rate: 0.0 bases/GPU/minute\n",
      "\tmax rate: 1191678624.0 bases/GPU/minute\n",
      "\tavg rate: 874667564.4 bases/GPU/minute\n",
      "[PB Info 2025-Mar-04 00:23:55] Time spent monitoring (multiple of 10): 290.168\n",
      "[PB Info 2025-Mar-04 00:23:55] bwalib run finished in 286.884 seconds\n",
      "[PB Info 2025-Mar-04 00:23:55] ------------------------------------------------------------------------------\n",
      "[PB Info 2025-Mar-04 00:23:55] ||        Program:                    GPU-PBBWA mem, Sorting Phase-I        ||\n",
      "[PB Info 2025-Mar-04 00:23:55] ||        Version:                                           4.4.0-1        ||\n",
      "[PB Info 2025-Mar-04 00:23:55] ||        Start Time:                       Tue Mar  4 00:19:04 2025        ||\n",
      "[PB Info 2025-Mar-04 00:23:55] ||        End Time:                         Tue Mar  4 00:23:55 2025        ||\n",
      "[PB Info 2025-Mar-04 00:23:55] ||        Total Time:                           4 minutes 51 seconds        ||\n",
      "[PB Info 2025-Mar-04 00:23:55] ------------------------------------------------------------------------------\n",
      "[PB Info 2025-Mar-04 00:23:57] ------------------------------------------------------------------------------\n",
      "[PB Info 2025-Mar-04 00:23:57] ||                 Parabricks accelerated Genomics Pipeline                 ||\n",
      "[PB Info 2025-Mar-04 00:23:57] ||                              Version 4.4.0-1                             ||\n",
      "[PB Info 2025-Mar-04 00:23:57] ||                             Sorting Phase-II                             ||\n",
      "[PB Info 2025-Mar-04 00:23:57] ------------------------------------------------------------------------------\n",
      "[PB Info 2025-Mar-04 00:23:57] progressMeter - Percentage\n",
      "[PB Info 2025-Mar-04 00:23:57] 0.0\n",
      "[PB Info 2025-Mar-04 00:24:02] 48.8\n",
      "[PB Info 2025-Mar-04 00:24:07] 81.6\n",
      "[PB Info 2025-Mar-04 00:24:12] Sorting and Marking: 15.010 seconds\n",
      "[PB Info 2025-Mar-04 00:24:12] ------------------------------------------------------------------------------\n",
      "[PB Info 2025-Mar-04 00:24:12] ||        Program:                                  Sorting Phase-II        ||\n",
      "[PB Info 2025-Mar-04 00:24:12] ||        Version:                                           4.4.0-1        ||\n",
      "[PB Info 2025-Mar-04 00:24:12] ||        Start Time:                       Tue Mar  4 00:23:57 2025        ||\n",
      "[PB Info 2025-Mar-04 00:24:12] ||        End Time:                         Tue Mar  4 00:24:12 2025        ||\n",
      "[PB Info 2025-Mar-04 00:24:12] ||        Total Time:                                     15 seconds        ||\n",
      "[PB Info 2025-Mar-04 00:24:12] ------------------------------------------------------------------------------\n",
      "[PB Info 2025-Mar-04 00:24:12] ------------------------------------------------------------------------------\n",
      "[PB Info 2025-Mar-04 00:24:12] ||                 Parabricks accelerated Genomics Pipeline                 ||\n",
      "[PB Info 2025-Mar-04 00:24:12] ||                              Version 4.4.0-1                             ||\n",
      "[PB Info 2025-Mar-04 00:24:12] ||                         Marking Duplicates, BQSR                         ||\n",
      "[PB Info 2025-Mar-04 00:24:12] ------------------------------------------------------------------------------\n",
      "[PB Info 2025-Mar-04 00:24:12] Using PBBinBamFile for BAM writing\n",
      "[PB Info 2025-Mar-04 00:24:13] progressMeter -\tPercentage\n",
      "[PB Info 2025-Mar-04 00:24:23] 3.5\n",
      "[PB Info 2025-Mar-04 00:24:33] 8.4\n",
      "[PB Info 2025-Mar-04 00:24:43] 14.5\n",
      "[PB Info 2025-Mar-04 00:24:53] 20.8\n",
      "[PB Info 2025-Mar-04 00:25:03] 31.0\n",
      "[PB Info 2025-Mar-04 00:25:13] 38.7\n",
      "[PB Info 2025-Mar-04 00:25:23] 44.2\n",
      "[PB Info 2025-Mar-04 00:25:33] 50.2\n",
      "[PB Info 2025-Mar-04 00:25:43] 57.2\n",
      "[PB Info 2025-Mar-04 00:25:53] 64.8\n",
      "[PB Info 2025-Mar-04 00:26:03] 73.3\n",
      "[PB Info 2025-Mar-04 00:26:13] 77.0\n",
      "[PB Info 2025-Mar-04 00:26:23] 81.5\n",
      "[PB Info 2025-Mar-04 00:26:33] 86.9\n",
      "[PB Info 2025-Mar-04 00:26:43] 94.5\n",
      "[PB Info 2025-Mar-04 00:26:53] 100.0\n",
      "[PB Info 2025-Mar-04 00:26:56] BQSR and writing final BAM:  163.506 seconds\n",
      "[PB Info 2025-Mar-04 00:26:56] ------------------------------------------------------------------------------\n",
      "[PB Info 2025-Mar-04 00:26:56] ||        Program:                          Marking Duplicates, BQSR        ||\n",
      "[PB Info 2025-Mar-04 00:26:56] ||        Version:                                           4.4.0-1        ||\n",
      "[PB Info 2025-Mar-04 00:26:56] ||        Start Time:                       Tue Mar  4 00:24:12 2025        ||\n",
      "[PB Info 2025-Mar-04 00:26:56] ||        End Time:                         Tue Mar  4 00:26:56 2025        ||\n",
      "[PB Info 2025-Mar-04 00:26:56] ||        Total Time:                           2 minutes 44 seconds        ||\n",
      "[PB Info 2025-Mar-04 00:26:56] ------------------------------------------------------------------------------\n"
     ]
    }
   ],
   "source": [
    "!sh pb_alignment.sh"
   ]
  },
  {
   "cell_type": "markdown",
   "metadata": {},
   "source": [
    "Looking in the data folder now, we now see the generated bam files. "
   ]
  },
  {
   "cell_type": "code",
   "execution_count": 5,
   "metadata": {},
   "outputs": [
    {
     "name": "stdout",
     "output_type": "stream",
     "text": [
      "NIST7035_TAAGGCGA_L001_R1_001.bam\n",
      "NIST7035_TAAGGCGA_L001_R1_001.bam.bai\n"
     ]
    }
   ],
   "source": [
    "! ls data | grep .bam"
   ]
  },
  {
   "cell_type": "markdown",
   "metadata": {},
   "source": [
    "\n",
    "## Variant Calling"
   ]
  },
  {
   "cell_type": "markdown",
   "metadata": {},
   "source": [
    "This cell shows how to run variant calling using [Parabricks DeepVariant](https://docs.nvidia.com/clara/parabricks/latest/documentation/tooldocs/man_deepvariant.html). "
   ]
  },
  {
   "cell_type": "markdown",
   "metadata": {},
   "source": [
    "This is the code in `variant_calling.sh`\n",
    "```\n",
    "REF=\"data/ref/Homo_sapiens_assembly38.fasta\"\n",
    "IN_BAM=\"data/NIST7035_TAAGGCGA_L001_R1_001.bam\"\n",
    "OUT_VCF=\"data/NIST7035_TAAGGCGA_L001_R1_001.vcf\"\n",
    "\n",
    "pbrun deepvariant \\\n",
    "    --ref ${REF} \\\n",
    "    --in-bam ${IN_BAM} \\\n",
    "    --out-variants ${OUT_VCF} \\\n",
    "    --use-wes-model\n",
    "```"
   ]
  },
  {
   "cell_type": "code",
   "execution_count": 9,
   "metadata": {},
   "outputs": [
    {
     "name": "stdout",
     "output_type": "stream",
     "text": [
      "Please visit https://docs.nvidia.com/clara/#parabricks for detailed documentation\n",
      "\n",
      "Detected 1 CUDA Capable device(s), considering 1 device(s)\n",
      "  CUDA Driver Version / Runtime Version          12.4 / 12.3\n",
      "Using model for CUDA Capability Major/Minor version number:    89\n",
      "/usr/local/parabricks/binaries/bin/deepvariant /root/germline-blueprint/data/ref/Homo_sapiens_assembly38.fasta /root/germline-blueprint/data/NIST7035_TAAGGCGA_L001_R1_001.bam 1 2 -o /root/germline-blueprint/data/NIST7035_TAAGGCGA_L001_R1_001.vcf -n 6 --model /usr/local/parabricks/binaries/model/80+/shortread/deepvariant_wes.eng --channel_insert_size --pileup_image_width 221 --max_reads_per_partition 1500 --partition_size 1000 --vsc_min_count_snps 2 --vsc_min_count_indels 2 --vsc_min_fraction_snps 0.12 --min_mapping_quality 5 --min_base_quality 10 --alt_aligned_pileup none --variant_caller VERY_SENSITIVE_CALLER --dbg_min_base_quality 15 --ws_min_windows_distance 80 --aux_fields_to_keep HP --p_error 0.001 --max_ins_size 10\n",
      "[PB Info 2025-Mar-04 00:44:48] ------------------------------------------------------------------------------\n",
      "[PB Info 2025-Mar-04 00:44:48] ||                 Parabricks accelerated Genomics Pipeline                 ||\n",
      "[PB Info 2025-Mar-04 00:44:48] ||                              Version 4.4.0-1                             ||\n",
      "[PB Info 2025-Mar-04 00:44:48] ||                                deepvariant                               ||\n",
      "[PB Info 2025-Mar-04 00:44:48] ------------------------------------------------------------------------------\n",
      "[PB Info 2025-Mar-04 00:44:48] Starting DeepVariant\n",
      "[PB Info 2025-Mar-04 00:44:48] Running with 1 GPU devices, each with 2 group instances and 6 workers\n",
      "[PB Info 2025-Mar-04 00:44:48] ProgressMeter -\tCurrent-Locus\tElapsed-Minutes\n",
      "[PB Info 2025-Mar-04 00:44:54] ProgressMeter -\tchr1:14000\t0.1\n",
      "[PB Info 2025-Mar-04 00:45:00] ProgressMeter -\tchr1:14000\t0.2\n",
      "[PB Info 2025-Mar-04 00:45:06] ProgressMeter -\tchr1:14000\t0.3\n",
      "[PB Info 2025-Mar-04 00:45:12] ProgressMeter -\tchr1:14000\t0.4\n",
      "[PB Info 2025-Mar-04 00:45:18] ProgressMeter -\tchr1:14000\t0.5\n",
      "[PB Info 2025-Mar-04 00:45:24] ProgressMeter -\tchr1:14000\t0.6\n",
      "[PB Info 2025-Mar-04 00:45:30] ProgressMeter -\tchr1:14000\t0.7\n",
      "[PB Info 2025-Mar-04 00:45:36] ProgressMeter -\tchr1:4018000\t0.8\n",
      "[PB Info 2025-Mar-04 00:45:42] ProgressMeter -\tchr1:21814000\t0.9\n",
      "[PB Info 2025-Mar-04 00:45:48] ProgressMeter -\tchr1:33317000\t1.0\n",
      "[PB Info 2025-Mar-04 00:45:54] ProgressMeter -\tchr1:55779000\t1.1\n",
      "[PB Info 2025-Mar-04 00:46:00] ProgressMeter -\tchr1:92387000\t1.2\n",
      "[PB Info 2025-Mar-04 00:46:06] ProgressMeter -\tchr1:146090000\t1.3\n",
      "[PB Info 2025-Mar-04 00:46:12] ProgressMeter -\tchr1:158179000\t1.4\n",
      "[PB Info 2025-Mar-04 00:46:18] ProgressMeter -\tchr1:189082000\t1.5\n",
      "[PB Info 2025-Mar-04 00:46:24] ProgressMeter -\tchr1:221759000\t1.6\n",
      "[PB Info 2025-Mar-04 00:46:30] ProgressMeter -\tchr2:5821000\t1.7\n",
      "[PB Info 2025-Mar-04 00:46:36] ProgressMeter -\tchr2:50989000\t1.8\n",
      "[PB Info 2025-Mar-04 00:46:42] ProgressMeter -\tchr2:102470000\t1.9\n",
      "[PB Info 2025-Mar-04 00:46:48] ProgressMeter -\tchr2:172540000\t2.0\n",
      "[PB Info 2025-Mar-04 00:46:54] ProgressMeter -\tchr2:203815000\t2.1\n",
      "[PB Info 2025-Mar-04 00:47:00] ProgressMeter -\tchr2:234957000\t2.2\n",
      "[PB Info 2025-Mar-04 00:47:06] ProgressMeter -\tchr3:10763000\t2.3\n",
      "[PB Info 2025-Mar-04 00:47:12] ProgressMeter -\tchr3:49656000\t2.4\n",
      "[PB Info 2025-Mar-04 00:47:18] ProgressMeter -\tchr3:86173000\t2.5\n",
      "[PB Info 2025-Mar-04 00:47:24] ProgressMeter -\tchr3:123868000\t2.6\n",
      "[PB Info 2025-Mar-04 00:47:30] ProgressMeter -\tchr3:161602000\t2.7\n",
      "[PB Info 2025-Mar-04 00:47:36] ProgressMeter -\tchr4:3658000\t2.8\n",
      "[PB Info 2025-Mar-04 00:47:42] ProgressMeter -\tchr4:56352000\t2.9\n",
      "[PB Info 2025-Mar-04 00:47:48] ProgressMeter -\tchr4:110016000\t3.0\n",
      "[PB Info 2025-Mar-04 00:47:54] ProgressMeter -\tchr5:8575000\t3.1\n",
      "[PB Info 2025-Mar-04 00:48:00] ProgressMeter -\tchr5:76924000\t3.2\n",
      "[PB Info 2025-Mar-04 00:48:06] ProgressMeter -\tchr5:113514000\t3.3\n",
      "[PB Info 2025-Mar-04 00:48:12] ProgressMeter -\tchr5:138586000\t3.4\n",
      "[PB Info 2025-Mar-04 00:48:18] ProgressMeter -\tchr5:157740000\t3.5\n",
      "[PB Info 2025-Mar-04 00:48:24] ProgressMeter -\tchr6:18162000\t3.6\n",
      "[PB Info 2025-Mar-04 00:48:30] ProgressMeter -\tchr6:44249000\t3.7\n",
      "[PB Info 2025-Mar-04 00:48:36] ProgressMeter -\tchr6:103892000\t3.8\n",
      "[PB Info 2025-Mar-04 00:48:42] ProgressMeter -\tchr6:155507000\t3.9\n",
      "[PB Info 2025-Mar-04 00:48:48] ProgressMeter -\tchr6:167824000\t4.0\n",
      "[PB Info 2025-Mar-04 00:48:54] ProgressMeter -\tchr7:48176000\t4.1\n",
      "[PB Info 2025-Mar-04 00:49:00] ProgressMeter -\tchr7:114642000\t4.2\n",
      "[PB Info 2025-Mar-04 00:49:06] ProgressMeter -\tchr8:5018000\t4.3\n",
      "[PB Info 2025-Mar-04 00:49:12] ProgressMeter -\tchr8:45971000\t4.4\n",
      "[PB Info 2025-Mar-04 00:49:18] ProgressMeter -\tchr8:89676000\t4.5\n",
      "[PB Info 2025-Mar-04 00:49:24] ProgressMeter -\tchr8:116683000\t4.6\n",
      "[PB Info 2025-Mar-04 00:49:30] ProgressMeter -\tchr9:34370000\t4.7\n",
      "[PB Info 2025-Mar-04 00:49:36] ProgressMeter -\tchr9:92122000\t4.8\n",
      "[PB Info 2025-Mar-04 00:49:42] ProgressMeter -\tchr9:113945000\t4.9\n",
      "[PB Info 2025-Mar-04 00:49:48] ProgressMeter -\tchr9:135503000\t5.0\n",
      "[PB Info 2025-Mar-04 00:49:54] ProgressMeter -\tchr10:4618000\t5.1\n",
      "[PB Info 2025-Mar-04 00:50:00] ProgressMeter -\tchr10:46329000\t5.2\n",
      "[PB Info 2025-Mar-04 00:50:06] ProgressMeter -\tchr10:65161000\t5.3\n",
      "[PB Info 2025-Mar-04 00:50:12] ProgressMeter -\tchr10:91275000\t5.4\n",
      "[PB Info 2025-Mar-04 00:50:18] ProgressMeter -\tchr10:122030000\t5.5\n",
      "[PB Info 2025-Mar-04 00:50:24] ProgressMeter -\tchr11:5961000\t5.6\n",
      "[PB Info 2025-Mar-04 00:50:30] ProgressMeter -\tchr11:70649000\t5.7\n",
      "[PB Info 2025-Mar-04 00:50:36] ProgressMeter -\tchr11:116115000\t5.8\n",
      "[PB Info 2025-Mar-04 00:50:42] ProgressMeter -\tchr11:127965000\t5.9\n",
      "[PB Info 2025-Mar-04 00:50:48] ProgressMeter -\tchr12:20887000\t6.0\n",
      "[PB Info 2025-Mar-04 00:50:54] ProgressMeter -\tchr12:54521000\t6.1\n",
      "[PB Info 2025-Mar-04 00:51:00] ProgressMeter -\tchr12:93703000\t6.2\n",
      "[PB Info 2025-Mar-04 00:51:06] ProgressMeter -\tchr12:120080000\t6.3\n",
      "[PB Info 2025-Mar-04 00:51:12] ProgressMeter -\tchr13:70018000\t6.4\n",
      "[PB Info 2025-Mar-04 00:51:18] ProgressMeter -\tchr14:24208000\t6.5\n",
      "[PB Info 2025-Mar-04 00:51:24] ProgressMeter -\tchr14:64724000\t6.6\n",
      "[PB Info 2025-Mar-04 00:51:30] ProgressMeter -\tchr14:100823000\t6.7\n",
      "[PB Info 2025-Mar-04 00:51:36] ProgressMeter -\tchr15:52562000\t6.8\n",
      "[PB Info 2025-Mar-04 00:51:42] ProgressMeter -\tchr15:73003000\t6.9\n",
      "[PB Info 2025-Mar-04 00:51:48] ProgressMeter -\tchr15:83844000\t7.0\n",
      "[PB Info 2025-Mar-04 00:51:54] ProgressMeter -\tchr16:16388000\t7.1\n",
      "[PB Info 2025-Mar-04 00:52:00] ProgressMeter -\tchr16:49700000\t7.2\n",
      "[PB Info 2025-Mar-04 00:52:06] ProgressMeter -\tchr16:69226000\t7.3\n",
      "[PB Info 2025-Mar-04 00:52:12] ProgressMeter -\tchr16:87694000\t7.4\n",
      "[PB Info 2025-Mar-04 00:52:18] ProgressMeter -\tchr17:14555000\t7.5\n",
      "[PB Info 2025-Mar-04 00:52:24] ProgressMeter -\tchr17:37884000\t7.6\n",
      "[PB Info 2025-Mar-04 00:52:30] ProgressMeter -\tchr17:58823000\t7.7\n",
      "[PB Info 2025-Mar-04 00:52:36] ProgressMeter -\tchr17:79030000\t7.8\n",
      "[PB Info 2025-Mar-04 00:52:42] ProgressMeter -\tchr18:10112000\t7.9\n",
      "[PB Info 2025-Mar-04 00:52:48] ProgressMeter -\tchr18:46055000\t8.0\n",
      "[PB Info 2025-Mar-04 00:52:54] ProgressMeter -\tchr18:75690000\t8.1\n",
      "[PB Info 2025-Mar-04 00:53:00] ProgressMeter -\tchr19:14043000\t8.2\n",
      "[PB Info 2025-Mar-04 00:53:06] ProgressMeter -\tchr19:35945000\t8.3\n",
      "[PB Info 2025-Mar-04 00:53:12] ProgressMeter -\tchr19:45923000\t8.4\n",
      "[PB Info 2025-Mar-04 00:53:18] ProgressMeter -\tchr20:18551000\t8.5\n",
      "[PB Info 2025-Mar-04 00:53:24] ProgressMeter -\tchr20:46046000\t8.6\n",
      "[PB Info 2025-Mar-04 00:53:30] ProgressMeter -\tchr21:31894000\t8.7\n",
      "[PB Info 2025-Mar-04 00:53:36] ProgressMeter -\tchr22:22940000\t8.8\n",
      "[PB Info 2025-Mar-04 00:53:42] ProgressMeter -\tchr22:42593000\t8.9\n",
      "[PB Info 2025-Mar-04 00:53:48] ProgressMeter -\tchrX:21760000\t9.0\n",
      "[PB Info 2025-Mar-04 00:53:54] ProgressMeter -\tchrX:80287000\t9.1\n",
      "[PB Info 2025-Mar-04 00:54:00] ProgressMeter -\tchrX:151951000\t9.2\n",
      "[PB Info 2025-Mar-04 00:54:07] Deepvariant is finished, total time is 558.562 seconds\n",
      "[PB Info 2025-Mar-04 00:54:07] ------------------------------------------------------------------------------\n",
      "[PB Info 2025-Mar-04 00:54:07] ||        Program:                                       deepvariant        ||\n",
      "[PB Info 2025-Mar-04 00:54:07] ||        Version:                                           4.4.0-1        ||\n",
      "[PB Info 2025-Mar-04 00:54:07] ||        Start Time:                       Tue Mar  4 00:44:48 2025        ||\n",
      "[PB Info 2025-Mar-04 00:54:07] ||        End Time:                         Tue Mar  4 00:54:07 2025        ||\n",
      "[PB Info 2025-Mar-04 00:54:07] ||        Total Time:                           9 minutes 19 seconds        ||\n",
      "[PB Info 2025-Mar-04 00:54:07] ------------------------------------------------------------------------------\n",
      "Variant caller done, total time: 9.4 min\n"
     ]
    }
   ],
   "source": [
    "!sh variant_calling.sh"
   ]
  },
  {
   "cell_type": "markdown",
   "metadata": {},
   "source": [
    "Looking in the data folder now, we now see the generated vcf files. "
   ]
  },
  {
   "cell_type": "code",
   "execution_count": 10,
   "metadata": {},
   "outputs": [
    {
     "name": "stdout",
     "output_type": "stream",
     "text": [
      "NIST7035_TAAGGCGA_L001_R1_001.vcf\n"
     ]
    }
   ],
   "source": [
    "! ls data | grep .vcf"
   ]
  },
  {
   "cell_type": "markdown",
   "metadata": {},
   "source": [
    "## Next Steps"
   ]
  },
  {
   "cell_type": "markdown",
   "metadata": {},
   "source": [
    "Try running Germline analysis on your own data. "
   ]
  }
 ],
 "metadata": {
  "kernelspec": {
   "display_name": "Python 3 (ipykernel)",
   "language": "python",
   "name": "python3"
  },
  "language_info": {
   "codemirror_mode": {
    "name": "ipython",
    "version": 3
   },
   "file_extension": ".py",
   "mimetype": "text/x-python",
   "name": "python",
   "nbconvert_exporter": "python",
   "pygments_lexer": "ipython3",
   "version": "3.11.11"
  }
 },
 "nbformat": 4,
 "nbformat_minor": 4
}
