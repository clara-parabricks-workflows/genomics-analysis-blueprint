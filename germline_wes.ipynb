{
	"cells": [
		{
			"cell_type": "markdown",
			"metadata": {},
			"source": [
				"# Germline Analysis Blueprint "
			]
		},
		{
			"cell_type": "markdown",
			"metadata": {},
			"source": [
				"This notebook shows how to run Germline analysis on WES data using [Parabricks](https://docs.nvidia.com/clara/parabricks/latest/index.html). Parabricks is a free software suite for performing secondary analysis of next generation sequencing (NGS) DNA and RNA data. It uses GPU acceleration to deliver fast results. Its output matches commonly used software, making it fairly simple to verify the accuracy of the output."
			]
		},
		{
			"cell_type": "markdown",
			"metadata": {},
			"source": [
				"## Dataset"
			]
		},
		{
			"cell_type": "markdown",
			"metadata": {},
			"source": [
				"The data set used in this lab is an exome NA12878 from the [NIH](https://ftp-trace.ncbi.nlm.nih.gov/ReferenceSamples/giab/data_indexes/NA12878/sequence.index.NA12878_Illumina_HiSeq_Exome_Garvan_fastq_09252015) sequenced on Illumina. The two fastq files and the HG38 reference files can be downloaded using the `download_data.sh` script. "
			]
		},
		{
			"cell_type": "code",
			"execution_count": null,
			"metadata": {},
			"outputs": [],
			"source": [
				"! ./download_data.sh"
			]
		},
		{
			"cell_type": "markdown",
			"metadata": {},
			"source": [
				"It will take around 15 minutes to download and organize the data into the following directory structure. \n",
				"\n",
				"```\n",
				"data\n",
				"├── NIST7035_TAAGGCGA_L001_R1_001.fastq.gz\n",
				"├── NIST7035_TAAGGCGA_L001_R2_001.fastq.gz\n",
				"└── ref\n",
				"    ├── Homo_sapiens_assembly38.dict\n",
				"    ├── Homo_sapiens_assembly38.fasta\n",
				"    ├── Homo_sapiens_assembly38.fasta.amb\n",
				"    ├── Homo_sapiens_assembly38.fasta.ann\n",
				"    ├── Homo_sapiens_assembly38.fasta.bwt\n",
				"    ├── Homo_sapiens_assembly38.fasta.fai\n",
				"    ├── Homo_sapiens_assembly38.fasta.pac\n",
				"    ├── Homo_sapiens_assembly38.fasta.sa\n",
				"    ├── Homo_sapiens_assembly38.known_indels.vcf.gz\n",
				"    └── Homo_sapiens_assembly38.known_indels.vcf.gz.tbi\n",
				"```"
			]
		},
		{
			"cell_type": "markdown",
			"metadata": {},
			"source": [
				"Check that the data downloaded correctly. "
			]
		},
		{
			"cell_type": "code",
			"execution_count": null,
			"metadata": {},
			"outputs": [],
			"source": [
				"! ls data"
			]
		},
		{
			"cell_type": "code",
			"execution_count": null,
			"metadata": {},
			"outputs": [],
			"source": [
				"! ls data/ref"
			]
		},
		{
			"cell_type": "markdown",
			"metadata": {},
			"source": [
				"## Alignment"
			]
		},
		{
			"cell_type": "markdown",
			"metadata": {},
			"source": [
				"The following cell shows how to run alignment on the FASTQ files in the data directory using [Parabricks fq2bam](https://docs.nvidia.com/clara/parabricks/latest/documentation/tooldocs/man_fq2bam.html). Below is a diagram of the exact steps involved. "
			]
		},
		{
			"cell_type": "markdown",
			"metadata": {},
			"source": [
				"![fq2bam_diagram](images/fq2bam.png)"
			]
		},
		{
			"cell_type": "markdown",
			"metadata": {},
			"source": [
				"The software is packaged as a Docker container, therefore the cells to run Parabricks will be executing bash code to run Docker commands. The image comes from the [NVIDIA GPU Container (NGC) Registry](https://catalog.ngc.nvidia.com/orgs/nvidia/teams/clara/containers/clara-parabricks). "
			]
		},
		{
			"cell_type": "code",
			"execution_count": null,
			"metadata": {},
			"outputs": [],
			"source": [
				"%%sh\n",
				"\n",
				"DOCKER_IMAGE=\"nvcr.io/nvidia/clara/clara-parabricks:4.4.0-1\"\n",
				"\n",
				"DATA_DIR=\"$PWD/data\"\n",
				"\n",
				"REF=\"ref/Homo_sapiens_assembly38.fasta\"\n",
				"FASTQ_1=\"NIST7035_TAAGGCGA_L001_R1_001.fastq.gz\"\n",
				"FASTQ_2=\"NIST7035_TAAGGCGA_L001_R2_001.fastq.gz\"\n",
				"OUT_BAM=\"NIST7035_TAAGGCGA_L001_R1_001.bam\"\n",
				"\n",
				"docker run --gpus all --rm \\\n",
				"    -v ${DATA_DIR}:${DATA_DIR} \\\n",
				"    -w ${DATA_DIR} \\\n",
				"    ${DOCKER_IMAGE} pbrun fq2bam \\\n",
				"    --ref ${REF} \\\n",
				"    --in-fq ${FASTQ_1} ${FASTQ_2} \\\n",
				"    --out-bam ${OUT_BAM}"
			]
		},
		{
			"cell_type": "markdown",
			"metadata": {},
			"source": [
				"Looking in the data folder now, we now see the generated bam files. "
			]
		},
		{
			"cell_type": "code",
			"execution_count": null,
			"metadata": {},
			"outputs": [],
			"source": [
				"! ls data | grep .bam"
			]
		},
		{
			"cell_type": "markdown",
			"metadata": {},
			"source": [
				"\n",
				"## Variant Calling"
			]
		},
		{
			"cell_type": "markdown",
			"metadata": {},
			"source": [
				"This cell shows how to run variant calling using [Parabricks DeepVariant](https://docs.nvidia.com/clara/parabricks/latest/documentation/tooldocs/man_deepvariant.html). "
			]
		},
		{
			"cell_type": "code",
			"execution_count": null,
			"metadata": {},
			"outputs": [],
			"source": [
				"%%sh\n",
				"\n",
				"DOCKER_IMAGE=\"nvcr.io/nvidia/clara/clara-parabricks:4.4.0-1\"\n",
				"\n",
				"DATA_DIR=\"$PWD/data\"\n",
				"\n",
				"REF=\"ref/Homo_sapiens_assembly38.fasta\"\n",
				"IN_BAM=\"NIST7035_TAAGGCGA_L001_R1_001.bam\"\n",
				"OUT_VCF=\"NIST7035_TAAGGCGA_L001_R1_001.vcf\"\n",
				"\n",
				"docker run --gpus all --rm \\\n",
				"    -v ${DATA_DIR}:${DATA_DIR} \\\n",
				"    -w ${DATA_DIR} \\\n",
				"    ${DOCKER_IMAGE} pbrun deepvariant \\\n",
				"    --ref ${REF} \\\n",
				"    --in-bam ${IN_BAM} \\\n",
				"    --out-variants ${OUT_VCF} \\\n",
				"    --use-wes-model"
			]
		},
		{
			"cell_type": "markdown",
			"metadata": {},
			"source": [
				"Looking in the data folder now, we now see the generated vcf files. "
			]
		},
		{
			"cell_type": "code",
			"execution_count": null,
			"metadata": {},
			"outputs": [],
			"source": [
				"! ls data | grep .vcf"
			]
		},
		{
			"cell_type": "markdown",
			"metadata": {},
			"source": [
				"## Next Steps"
			]
		},
		{
			"cell_type": "markdown",
			"metadata": {},
			"source": [
				"Try running Germline analysis on your own data. "
			]
		}
	],
	"metadata": {
		"kernelspec": {
			"display_name": "Python 3",
			"language": "python",
			"name": "python3"
		},
		"language_info": {
			"codemirror_mode": {
				"name": "ipython",
				"version": 3
			},
			"file_extension": ".py",
			"mimetype": "text/x-python",
			"name": "python",
			"nbconvert_exporter": "python",
			"pygments_lexer": "ipython3",
			"version": "3.10.12"
		}
	},
	"nbformat": 4,
	"nbformat_minor": 2
}
