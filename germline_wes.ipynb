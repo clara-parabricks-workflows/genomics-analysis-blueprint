{
 "cells": [
  {
   "cell_type": "markdown",
   "metadata": {},
   "source": [
    "# Germline Analysis Blueprint "
   ]
  },
  {
   "cell_type": "markdown",
   "metadata": {},
   "source": [
    "This blueprint shows how to run a standard Germline workflow on whole exome data from `fastq` to `vcf`. We will start by downloading the sample reads and a set of BWA-indexed reference files. Then we will align the reads to the reference using BWA-MEM and call the variant using DeepVariant. The diagram below outlines these steps. \n",
    "\n",
    "![fq2bam_diagram](images/pbworkflow.png)\n"
   ]
  },
  {
   "cell_type": "markdown",
   "metadata": {},
   "source": [
    "To process the exome samples, we will use a GPU accelerated software suite called [Parabricks](https://docs.nvidia.com/clara/parabricks/latest/index.html). It contains over 25 popular secondary analysis tools for manipulating DNA and RNA data, including tools for alignment (BWA, Giraffe, Minimap2, STAR, etc.), variant calling (DeepVariant, HaplotypeCaller, DeepSomatic, StarFusion, etc.), and post processing steps such as quality checks and gvcf processing. Each tool offers nearly identical output to the CPU versions, but with speedups of up to 100x. For the full list of tools, see the [documentation](https://docs.nvidia.com/clara/parabricks/latest/toolreference.html). "
   ]
  },
  {
   "cell_type": "markdown",
   "metadata": {},
   "source": [
    "In this blueprint, we are running inside the Parabricks Docker container which can be found in the [NVIDIA GPU Container (NGC) Registry](https://catalog.ngc.nvidia.com/orgs/nvidia/teams/clara/containers/clara-parabricks). "
   ]
  },
  {
   "cell_type": "markdown",
   "metadata": {},
   "source": [
    "## Download the dataset"
   ]
  },
  {
   "cell_type": "markdown",
   "metadata": {},
   "source": [
    "The data set used in this lab is the whole exome sample NA12878 from the [NIH](https://ftp-trace.ncbi.nlm.nih.gov/ReferenceSamples/giab/data_indexes/NA12878/sequence.index.NA12878_Illumina_HiSeq_Exome_Garvan_fastq_09252015) sequenced on Illumina. The fastq files for this sample, as well as the HG38 reference files (already indexed) can be downloaded using the `download_data.sh` script. "
   ]
  },
  {
   "cell_type": "code",
   "execution_count": 1,
   "metadata": {},
   "outputs": [
    {
     "name": "stdout",
     "output_type": "stream",
     "text": [
      "--2025-03-04 20:56:56--  ftp://ftp-trace.ncbi.nih.gov/ReferenceSamples/giab/data/NA12878/Garvan_NA12878_HG001_HiSeq_Exome/NIST7035_TAAGGCGA_L001_R1_001.fastq.gz\n",
      "           => ‘NIST7035_TAAGGCGA_L001_R1_001.fastq.gz’\n",
      "Resolving ftp-trace.ncbi.nih.gov (ftp-trace.ncbi.nih.gov)... 130.14.250.7, 130.14.250.13, 2607:f220:41e:250::10, ...\n",
      "Connecting to ftp-trace.ncbi.nih.gov (ftp-trace.ncbi.nih.gov)|130.14.250.7|:21... connected.\n",
      "Logging in as anonymous ... Logged in!\n",
      "==> SYST ... done.    ==> PWD ... done.\n",
      "==> TYPE I ... done.  ==> CWD (1) /ReferenceSamples/giab/data/NA12878/Garvan_NA12878_HG001_HiSeq_Exome ... done.\n",
      "==> SIZE NIST7035_TAAGGCGA_L001_R1_001.fastq.gz ... 1914722761\n",
      "==> PASV ... done.    ==> RETR NIST7035_TAAGGCGA_L001_R1_001.fastq.gz ... done.\n",
      "Length: 1914722761 (1.8G) (unauthoritative)\n",
      "\n",
      "NIST7035_TAAGGCGA_L 100%[===================>]   1.78G  66.6MB/s    in 37s     \n",
      "\n",
      "2025-03-04 20:57:37 (49.5 MB/s) - ‘NIST7035_TAAGGCGA_L001_R1_001.fastq.gz’ saved [1914722761]\n",
      "\n",
      "--2025-03-04 20:57:37--  ftp://ftp-trace.ncbi.nih.gov/ReferenceSamples/giab/data/NA12878/Garvan_NA12878_HG001_HiSeq_Exome/NIST7035_TAAGGCGA_L001_R2_001.fastq.gz\n",
      "           => ‘NIST7035_TAAGGCGA_L001_R2_001.fastq.gz’\n",
      "Resolving ftp-trace.ncbi.nih.gov (ftp-trace.ncbi.nih.gov)... 130.14.250.10, 130.14.250.11, 2607:f220:41e:250::7, ...\n",
      "Connecting to ftp-trace.ncbi.nih.gov (ftp-trace.ncbi.nih.gov)|130.14.250.10|:21... connected.\n",
      "Logging in as anonymous ... Logged in!\n",
      "==> SYST ... done.    ==> PWD ... done.\n",
      "==> TYPE I ... done.  ==> CWD (1) /ReferenceSamples/giab/data/NA12878/Garvan_NA12878_HG001_HiSeq_Exome ... done.\n",
      "==> SIZE NIST7035_TAAGGCGA_L001_R2_001.fastq.gz ... 1954935121\n",
      "==> PASV ... done.    ==> RETR NIST7035_TAAGGCGA_L001_R2_001.fastq.gz ... done.\n",
      "Length: 1954935121 (1.8G) (unauthoritative)\n",
      "\n",
      "NIST7035_TAAGGCGA_L 100%[===================>]   1.82G  28.8MB/s    in 61s     \n",
      "\n",
      "2025-03-04 20:58:39 (30.4 MB/s) - ‘NIST7035_TAAGGCGA_L001_R2_001.fastq.gz’ saved [1954935121]\n",
      "\n",
      "/root/germline-blueprint\n",
      "--2025-03-04 20:58:39--  https://s3.amazonaws.com/parabricks.sample/parabricks_sample.tar.gz\n",
      "Resolving s3.amazonaws.com (s3.amazonaws.com)... 52.216.41.184, 52.216.215.40, 52.217.97.118, ...\n",
      "Connecting to s3.amazonaws.com (s3.amazonaws.com)|52.216.41.184|:443... connected.\n",
      "HTTP request sent, awaiting response... 200 OK\n",
      "Length: 11767623602 (11G) [application/x-tar]\n",
      "Saving to: ‘parabricks_sample.tar.gz’\n",
      "\n",
      "parabricks_sample.t 100%[===================>]  10.96G  22.4MB/s    in 6m 46s  \n",
      "\n",
      "2025-03-04 21:05:25 (27.6 MB/s) - ‘parabricks_sample.tar.gz’ saved [11767623602/11767623602]\n",
      "\n",
      "parabricks_sample/\n",
      "parabricks_sample/Data/\n",
      "parabricks_sample/Data/markdup_input.bam\n",
      "parabricks_sample/Data/sample_2.fq.gz\n",
      "parabricks_sample/Data/sample_1.fq.gz\n",
      "parabricks_sample/Data/single_ended.bam\n",
      "parabricks_sample/Ref/\n",
      "parabricks_sample/Ref/Homo_sapiens_assembly38.fasta.sa\n",
      "parabricks_sample/Ref/Homo_sapiens_assembly38.known_indels.vcf.gz.tbi\n",
      "parabricks_sample/Ref/Homo_sapiens_assembly38.dict\n",
      "parabricks_sample/Ref/Homo_sapiens_assembly38.fasta\n",
      "parabricks_sample/Ref/Homo_sapiens_assembly38.fasta.fai\n",
      "parabricks_sample/Ref/Homo_sapiens_assembly38.fasta.pac\n",
      "parabricks_sample/Ref/Homo_sapiens_assembly38.known_indels.vcf.gz\n",
      "parabricks_sample/Ref/Homo_sapiens_assembly38.fasta.bwt\n",
      "parabricks_sample/Ref/Homo_sapiens_assembly38.fasta.ann\n",
      "parabricks_sample/Ref/Homo_sapiens_assembly38.fasta.amb\n"
     ]
    }
   ],
   "source": [
    "!sh scripts/download_data.sh "
   ]
  },
  {
   "cell_type": "markdown",
   "metadata": {},
   "source": [
    "It can take up to 15 minutes to download and organize the data into the correct structure for this blueprint. In the meantime, let's discuss the data being downloaded. "
   ]
  },
  {
   "cell_type": "markdown",
   "metadata": {},
   "source": [
    "When the script completes, the `data` directory should contain two `.fastq.gz` files as a `ref` folder containing all the reference files, and an empty `output` folder where the output files from this workflow will be stored.  "
   ]
  },
  {
   "cell_type": "markdown",
   "metadata": {},
   "source": [
    "```\n",
    "data\n",
    "├── NIST7035_TAAGGCGA_L001_R1_001.fastq.gz\n",
    "├── NIST7035_TAAGGCGA_L001_R2_001.fastq.gz\n",
    "├── output\n",
    "└── ref\n",
    "    ├── Homo_sapiens_assembly38.dict\n",
    "    ├── Homo_sapiens_assembly38.fasta\n",
    "    ├── Homo_sapiens_assembly38.fasta.amb\n",
    "    ├── Homo_sapiens_assembly38.fasta.ann\n",
    "    ├── Homo_sapiens_assembly38.fasta.bwt\n",
    "    ├── Homo_sapiens_assembly38.fasta.fai\n",
    "    ├── Homo_sapiens_assembly38.fasta.pac\n",
    "    ├── Homo_sapiens_assembly38.fasta.sa\n",
    "    ├── Homo_sapiens_assembly38.known_indels.vcf.gz\n",
    "    └── Homo_sapiens_assembly38.known_indels.vcf.gz.tbi\n",
    "```"
   ]
  },
  {
   "cell_type": "markdown",
   "metadata": {},
   "source": [
    "TODO: More data details"
   ]
  },
  {
   "cell_type": "markdown",
   "metadata": {},
   "source": [
    "Let's verify that the data downloaded correctly by running `ls` on the `data` directory. "
   ]
  },
  {
   "cell_type": "code",
   "execution_count": 2,
   "metadata": {},
   "outputs": [
    {
     "name": "stdout",
     "output_type": "stream",
     "text": [
      "NIST7035_TAAGGCGA_L001_R1_001.fastq.gz\toutput\n",
      "NIST7035_TAAGGCGA_L001_R2_001.fastq.gz\tref\n"
     ]
    }
   ],
   "source": [
    "! ls data"
   ]
  },
  {
   "cell_type": "markdown",
   "metadata": {},
   "source": [
    "Let's verify that the reference files downloaded correctly by running `ls` on the `ref` folder. "
   ]
  },
  {
   "cell_type": "code",
   "execution_count": 3,
   "metadata": {},
   "outputs": [
    {
     "name": "stdout",
     "output_type": "stream",
     "text": [
      "Homo_sapiens_assembly38.dict\n",
      "Homo_sapiens_assembly38.fasta\n",
      "Homo_sapiens_assembly38.fasta.amb\n",
      "Homo_sapiens_assembly38.fasta.ann\n",
      "Homo_sapiens_assembly38.fasta.bwt\n",
      "Homo_sapiens_assembly38.fasta.fai\n",
      "Homo_sapiens_assembly38.fasta.pac\n",
      "Homo_sapiens_assembly38.fasta.sa\n",
      "Homo_sapiens_assembly38.known_indels.vcf.gz\n",
      "Homo_sapiens_assembly38.known_indels.vcf.gz.tbi\n"
     ]
    }
   ],
   "source": [
    "! ls data/ref"
   ]
  },
  {
   "cell_type": "markdown",
   "metadata": {},
   "source": [
    "Now the data is downloaded and organized for downstream analysis. "
   ]
  },
  {
   "cell_type": "markdown",
   "metadata": {},
   "source": [
    "## Align the fastq files"
   ]
  },
  {
   "cell_type": "markdown",
   "metadata": {},
   "source": [
    "In this section, we will use the [Parabricks fq2bam](https://docs.nvidia.com/clara/parabricks/latest/documentation/tooldocs/man_fq2bam.html) tool to align our `.fastq` files to the reference. The code to do this is contained in the bash script located at `scripts/fq2bam.sh`. The following cell executes this code. It will take a few minutes to run, so kick it off now and read below about what the script is doing. "
   ]
  },
  {
   "cell_type": "code",
   "execution_count": 1,
   "metadata": {},
   "outputs": [
    {
     "name": "stdout",
     "output_type": "stream",
     "text": [
      "Please visit https://docs.nvidia.com/clara/#parabricks for detailed documentation\n",
      "\n",
      "\n",
      "\n",
      "[Parabricks Options Mesg]: Checking argument compatibility\n",
      "[Parabricks Options Mesg]: Set --bwa-options=\"-K #\" to produce compatible pair-ended results with previous versions of\n",
      "fq2bam or BWA MEM.\n",
      "[Parabricks Options Mesg]: Automatically generating ID prefix\n",
      "[Parabricks Options Mesg]: Read group created for /root/germline-blueprint/data/NIST7035_TAAGGCGA_L001_R1_001.fastq.gz\n",
      "and /root/germline-blueprint/data/NIST7035_TAAGGCGA_L001_R2_001.fastq.gz\n",
      "[Parabricks Options Mesg]: @RG\\tID:H7AP8ADXX.1\\tLB:lib1\\tPL:bar\\tSM:sample\\tPU:H7AP8ADXX.1\n",
      "[PB Info 2025-Mar-04 21:19:28] ------------------------------------------------------------------------------\n",
      "[PB Info 2025-Mar-04 21:19:28] ||                 Parabricks accelerated Genomics Pipeline                 ||\n",
      "[PB Info 2025-Mar-04 21:19:28] ||                              Version 4.4.0-1                             ||\n",
      "[PB Info 2025-Mar-04 21:19:28] ||                      GPU-PBBWA mem, Sorting Phase-I                      ||\n",
      "[PB Info 2025-Mar-04 21:19:28] ------------------------------------------------------------------------------\n",
      "[PB Info 2025-Mar-04 21:19:28] Mode = pair-ended-gpu\n",
      "[PB Info 2025-Mar-04 21:19:28] Running with 1 GPU(s), using 4 stream(s) per device with 16 worker threads per GPU\n",
      "[PB Info 2025-Mar-04 21:19:38] #  0  0  0  0  0   0 pool:  0 0 bases/GPU/minute: 0.0 \n",
      "[PB Info 2025-Mar-04 21:19:48] #  0  0  0  0  0   0 pool:  0 0 bases/GPU/minute: 0.0 \n",
      "[PB Info 2025-Mar-04 21:19:58] #  0  0  0  0  0   0 pool:  0 0 bases/GPU/minute: 0.0 \n",
      "[PB Info 2025-Mar-04 21:20:08] #  0  0  0  0  0   0 pool:  0 0 bases/GPU/minute: 0.0 \n",
      "[PB Info 2025-Mar-04 21:20:18] # 41  9  1  5  0   0 pool:  0 46343350 bases/GPU/minute: 278060100.0 \n",
      "[PB Info 2025-Mar-04 21:20:28] # 53 60  0  4  0   0 pool:  0 244956917 bases/GPU/minute: 1191681402.0 \n",
      "[PB Info 2025-Mar-04 21:20:38] # 69 101  1  4  0   0 pool:  0 430330191 bases/GPU/minute: 1112239644.0 \n",
      "[PB Info 2025-Mar-04 21:20:48] # 100 100  2  3  0   0 pool:  3 595840757 bases/GPU/minute: 993063396.0 \n",
      "[PB Info 2025-Mar-04 21:20:58] # 100 100  3  3  0   0 pool:  2 767967105 bases/GPU/minute: 1032758088.0 \n",
      "[PB Info 2025-Mar-04 21:21:08] # 100 100  3  3  0   0 pool:  2 940095252 bases/GPU/minute: 1032768882.0 \n",
      "[PB Info 2025-Mar-04 21:21:18] # 100 100  2  4  0   0 pool:  2 1118845617 bases/GPU/minute: 1072502190.0 \n",
      "[PB Info 2025-Mar-04 21:21:28] # 100 100  3  2  0   0 pool:  3 1290977100 bases/GPU/minute: 1032788898.0 \n",
      "[PB Info 2025-Mar-04 21:21:38] # 100 100  3  3  0   0 pool:  2 1469725127 bases/GPU/minute: 1072488162.0 \n",
      "[PB Info 2025-Mar-04 21:21:48] # 100 100  3  2  0   0 pool:  3 1648473268 bases/GPU/minute: 1072488846.0 \n",
      "[PB Info 2025-Mar-04 21:21:58] # 100 100  3  2  0   0 pool:  3 1820600023 bases/GPU/minute: 1032760530.0 \n",
      "[PB Info 2025-Mar-04 21:22:08] # 100 101  2  4  0   0 pool:  1 1986108107 bases/GPU/minute: 993048504.0 \n",
      "[PB Info 2025-Mar-04 21:22:18] # 100 100  3  3  0   0 pool:  2 2158240978 bases/GPU/minute: 1032797226.0 \n",
      "[PB Info 2025-Mar-04 21:22:28] # 100 100  2  3  0   0 pool:  3 2336995469 bases/GPU/minute: 1072526946.0 \n",
      "[PB Info 2025-Mar-04 21:22:38] # 100 100  3  3  0   0 pool:  2 2528987960 bases/GPU/minute: 1151954946.0 \n",
      "[PB Info 2025-Mar-04 21:22:46] Time spent reading: 44.779779 seconds\n",
      "[PB Info 2025-Mar-04 21:22:48] # 96 101  2  2  0   0 pool:  7 2714359056 bases/GPU/minute: 1112226576.0 \n",
      "[PB Info 2025-Mar-04 21:22:58] # 66 100  3  3  0   0 pool: 36 2906346913 bases/GPU/minute: 1151927142.0 \n",
      "[PB Info 2025-Mar-04 21:23:08] # 36 100  2  4  0   0 pool: 66 3098337062 bases/GPU/minute: 1151940894.0 \n",
      "[PB Info 2025-Mar-04 21:23:18] #  6 101  2  4  0   0 pool: 95 3290332488 bases/GPU/minute: 1151972556.0 \n",
      "[PB Info 2025-Mar-04 21:23:28] #  0 82  0  6  0   0 pool: 100 3488946616 bases/GPU/minute: 1191684768.0 \n",
      "[PB Info 2025-Mar-04 21:23:38] #  0 53  0  5  0   0 pool: 100 3674319443 bases/GPU/minute: 1112236962.0 \n",
      "[PB Info 2025-Mar-04 21:23:48] #  0 24  0  6  0   0 pool: 100 3872932414 bases/GPU/minute: 1191677826.0 \n",
      "[PB Info 2025-Mar-04 21:23:56] GPU 0 exited\n",
      "[PB Info 2025-Mar-04 21:23:56] GPU 0 exited\n",
      "[PB Info 2025-Mar-04 21:23:56] GPU 0 exited\n",
      "[PB Info 2025-Mar-04 21:23:56] GPU 0 exited\n",
      "[PB Info 2025-Mar-04 21:23:58] A CPU has exited\n",
      "[PB Info 2025-Mar-04 21:23:58] #  0  0  0  0  0   0 pool: 100 4068541105 bases/GPU/minute: 1173652146.0 \n",
      "[PB Info 2025-Mar-04 21:24:08] #  0  0  0  0  0   0 pool: 100 4081781967 bases/GPU/minute: 79445172.0 \n",
      "[PB Info 2025-Mar-04 21:24:18] Rate stats (based on sampling every 10 seconds):\n",
      "\tmin rate: 0.0 bases/GPU/minute\n",
      "\tmax rate: 1191684768.0 bases/GPU/minute\n",
      "\tavg rate: 874667564.4 bases/GPU/minute\n",
      "[PB Info 2025-Mar-04 21:24:18] Time spent monitoring (multiple of 10): 290.026\n",
      "[PB Info 2025-Mar-04 21:24:18] bwalib run finished in 288.954 seconds\n",
      "[PB Info 2025-Mar-04 21:24:18] ------------------------------------------------------------------------------\n",
      "[PB Info 2025-Mar-04 21:24:18] ||        Program:                    GPU-PBBWA mem, Sorting Phase-I        ||\n",
      "[PB Info 2025-Mar-04 21:24:18] ||        Version:                                           4.4.0-1        ||\n",
      "[PB Info 2025-Mar-04 21:24:18] ||        Start Time:                       Tue Mar  4 21:19:28 2025        ||\n",
      "[PB Info 2025-Mar-04 21:24:18] ||        End Time:                         Tue Mar  4 21:24:18 2025        ||\n",
      "[PB Info 2025-Mar-04 21:24:18] ||        Total Time:                           4 minutes 50 seconds        ||\n",
      "[PB Info 2025-Mar-04 21:24:18] ------------------------------------------------------------------------------\n",
      "[PB Info 2025-Mar-04 21:24:20] ------------------------------------------------------------------------------\n",
      "[PB Info 2025-Mar-04 21:24:20] ||                 Parabricks accelerated Genomics Pipeline                 ||\n",
      "[PB Info 2025-Mar-04 21:24:20] ||                              Version 4.4.0-1                             ||\n",
      "[PB Info 2025-Mar-04 21:24:20] ||                             Sorting Phase-II                             ||\n",
      "[PB Info 2025-Mar-04 21:24:20] ------------------------------------------------------------------------------\n",
      "[PB Info 2025-Mar-04 21:24:20] progressMeter - Percentage\n",
      "[PB Info 2025-Mar-04 21:24:20] 0.0\n",
      "[PB Info 2025-Mar-04 21:24:25] 52.7\n",
      "[PB Info 2025-Mar-04 21:24:30] Sorting and Marking: 10.000 seconds\n",
      "[PB Info 2025-Mar-04 21:24:30] ------------------------------------------------------------------------------\n",
      "[PB Info 2025-Mar-04 21:24:30] ||        Program:                                  Sorting Phase-II        ||\n",
      "[PB Info 2025-Mar-04 21:24:30] ||        Version:                                           4.4.0-1        ||\n",
      "[PB Info 2025-Mar-04 21:24:30] ||        Start Time:                       Tue Mar  4 21:24:20 2025        ||\n",
      "[PB Info 2025-Mar-04 21:24:30] ||        End Time:                         Tue Mar  4 21:24:30 2025        ||\n",
      "[PB Info 2025-Mar-04 21:24:30] ||        Total Time:                                     10 seconds        ||\n",
      "[PB Info 2025-Mar-04 21:24:30] ------------------------------------------------------------------------------\n",
      "[PB Info 2025-Mar-04 21:24:30] ------------------------------------------------------------------------------\n",
      "[PB Info 2025-Mar-04 21:24:30] ||                 Parabricks accelerated Genomics Pipeline                 ||\n",
      "[PB Info 2025-Mar-04 21:24:30] ||                              Version 4.4.0-1                             ||\n",
      "[PB Info 2025-Mar-04 21:24:30] ||                         Marking Duplicates, BQSR                         ||\n",
      "[PB Info 2025-Mar-04 21:24:30] ------------------------------------------------------------------------------\n",
      "[PB Info 2025-Mar-04 21:24:30] CuBamWriter using CUDA device 0\n",
      "[PB Warning 2025-Mar-04 21:24:30][src/main.cu:919] CuBamWriter and BQSR sharing GPU 0; performance may be impacted\n",
      "[PB Info 2025-Mar-04 21:24:30] BQSR using CUDA device(s): { 0 }\n",
      "[PB Info 2025-Mar-04 21:24:31] Using PBCuBamWriter for BAM writing (algo 1)\n",
      "[PB Info 2025-Mar-04 21:24:31] progressMeter -\tPercentage\n",
      "[PB Info 2025-Mar-04 21:24:41] 0.0\n",
      "[PB Info 2025-Mar-04 21:24:51] 0.0\n",
      "[PB Info 2025-Mar-04 21:25:01] 0.0\n",
      "[PB Info 2025-Mar-04 21:25:11] 0.0\n",
      "[PB Info 2025-Mar-04 21:25:21] 0.0\n",
      "[PB Info 2025-Mar-04 21:25:31] 0.0\n",
      "[PB Info 2025-Mar-04 21:25:41] 0.0\n",
      "[PB Info 2025-Mar-04 21:25:51] 0.0\n",
      "[PB Info 2025-Mar-04 21:25:56] Checking if the index file exists for the input compressed file:/root/germline-blueprint/data/ref/Homo_sapiens_assembly38.known_indels.vcf.gz for better performance\n",
      "[W::bcf_hdr_check_sanity] GL should be declared as Number=G\n",
      "[PB Info 2025-Mar-04 21:26:01] 0.6\n",
      "[PB Info 2025-Mar-04 21:26:11] 21.8\n",
      "[PB Info 2025-Mar-04 21:26:21] 46.8\n",
      "[PB Info 2025-Mar-04 21:26:31] 68.3\n",
      "[PB Info 2025-Mar-04 21:26:41] 82.3\n",
      "[PB Info 2025-Mar-04 21:26:48] 7759453 reads are filtered\n",
      "[PB Info 2025-Mar-04 21:26:51] 100.0\n",
      "[PB Info 2025-Mar-04 21:26:56] BQSR and writing final BAM:  144.111 seconds\n",
      "[PB Info 2025-Mar-04 21:26:56] ------------------------------------------------------------------------------\n",
      "[PB Info 2025-Mar-04 21:26:56] ||        Program:                          Marking Duplicates, BQSR        ||\n",
      "[PB Info 2025-Mar-04 21:26:56] ||        Version:                                           4.4.0-1        ||\n",
      "[PB Info 2025-Mar-04 21:26:56] ||        Start Time:                       Tue Mar  4 21:24:30 2025        ||\n",
      "[PB Info 2025-Mar-04 21:26:56] ||        End Time:                         Tue Mar  4 21:26:56 2025        ||\n",
      "[PB Info 2025-Mar-04 21:26:56] ||        Total Time:                           2 minutes 26 seconds        ||\n",
      "[PB Info 2025-Mar-04 21:26:56] ------------------------------------------------------------------------------\n"
     ]
    }
   ],
   "source": [
    "!sh scripts/fq2bam.sh"
   ]
  },
  {
   "cell_type": "markdown",
   "metadata": {},
   "source": [
    "Parabricks fq2bam is a wrapper for [BWA-MEM](https://github.com/lh3/bwa) that is optimized to run on the GPU, providing up to 60x speedups compared to the CPU-only version. It will also sort the output and can be configured to mark duplicates and recalibrate base quality scores. Below is a diagram showing how the steps within fq2bam are connected. \n",
    "\n",
    "![fq2bam_diagram](images/fq2bam.png)"
   ]
  },
  {
   "cell_type": "markdown",
   "metadata": {},
   "source": [
    "Now let's see how to run fq2bam by opening up `scripts/fq2bam.sh`. We have pasted the contents of this file below. "
   ]
  },
  {
   "cell_type": "markdown",
   "metadata": {},
   "source": [
    "```code\n",
    "#!/bin/bash \n",
    "\n",
    "REF=\"data/ref/Homo_sapiens_assembly38.fasta\"\n",
    "KNOWN_SITES=\"data/ref/Homo_sapiens_assembly38.known_indels.vcf.gz\"\n",
    "FASTQ_1=\"data/NIST7035_TAAGGCGA_L001_R1_001.fastq.gz\"\n",
    "FASTQ_2=\"data/NIST7035_TAAGGCGA_L001_R2_001.fastq.gz\"\n",
    "OUT_BAM=\"data/output/NIST7035_TAAGGCGA_L001_R1_001.bam\"\n",
    "OUT_RECAL=\"data/output/recal.txt\"\n",
    "\n",
    "pbrun fq2bam \\\n",
    "    --ref ${REF} \\\n",
    "    --in-fq ${FASTQ_1} ${FASTQ_2} \\\n",
    "    --knownSites ${KNOWN_SITES} \\\n",
    "    --out-bam ${OUT_BAM} \\\n",
    "    --out-recal-file ${OUT_RECAL} \\\n",
    "    --gpusort --gpuwrite \n",
    "```"
   ]
  },
  {
   "cell_type": "markdown",
   "metadata": {},
   "source": [
    "The beginning of this script defines paths to the files needed to run fq2bam. For this example we will provide a reference `.fasta`, known sites `.vcf`, and the two reads as `.fastq` files. We will also needs output paths for the resulting `.bam` containing the aligned reads and the `recal.txt` with the recalibration scores.  \n",
    "\n",
    "At the end of of this script is the run command. Every command in Parabricks starts with `pbrun` followed by the name of the tool to run and then any arguments. Most of the arguments are file inputs as defined above, however there are two boolean flags at the end that will improve the performance of the tool. \n",
    "\n",
    "The coordinate sorting step of alignment can be moved to the GPU by including `--gpusort`. The GPU can also help writing the output `.bam` file by enabling the `--gpuwrite` flag. \n",
    "\n",
    "In this example, we are running with a minimal set of arguments but there are dozens of extra options outlined in the [documentation](https://docs.nvidia.com/clara/parabricks/latest/documentation/tooldocs/man_fq2bam.html#fq2bam-reference). "
   ]
  },
  {
   "cell_type": "markdown",
   "metadata": {},
   "source": [
    "Once the cell executing fq2bam has finished running, we can look inside the `data/output` folder and see the that `.bam` file containing our aligned reads has been generated. "
   ]
  },
  {
   "cell_type": "code",
   "execution_count": 2,
   "metadata": {},
   "outputs": [
    {
     "name": "stdout",
     "output_type": "stream",
     "text": [
      "NIST7035_TAAGGCGA_L001_R1_001.bam\n",
      "NIST7035_TAAGGCGA_L001_R1_001.bam.bai\n"
     ]
    }
   ],
   "source": [
    "! ls data/output | grep .bam"
   ]
  },
  {
   "cell_type": "markdown",
   "metadata": {},
   "source": [
    "\n",
    "## Run variant calling"
   ]
  },
  {
   "cell_type": "markdown",
   "metadata": {},
   "source": [
    "In this section, we will use the [Parabricks DeepVariant](https://docs.nvidia.com/clara/parabricks/latest/documentation/tooldocs/man_deepvariant.html) tool to call variants on the `.bam` we generated using fq2bam.  The code to do this is contained in the bash script located at `scripts/deepvariant.sh`. The following cell executes this code. It will take around 10 minutes to run, so kick it off now and read below about what the script is doing. "
   ]
  },
  {
   "cell_type": "code",
   "execution_count": 5,
   "metadata": {},
   "outputs": [
    {
     "name": "stdout",
     "output_type": "stream",
     "text": [
      "Please visit https://docs.nvidia.com/clara/#parabricks for detailed documentation\n",
      "\n",
      "Detected 1 CUDA Capable device(s), considering 1 device(s)\n",
      "  CUDA Driver Version / Runtime Version          12.4 / 12.3\n",
      "Using model for CUDA Capability Major/Minor version number:    89\n",
      "/usr/local/parabricks/binaries/bin/deepvariant /root/germline-blueprint/data/ref/Homo_sapiens_assembly38.fasta /root/germline-blueprint/data/output/NIST7035_TAAGGCGA_L001_R1_001.bam 1 2 -o /root/germline-blueprint/data/output/NIST7035_TAAGGCGA_L001_R1_001.vcf -n 6 --model /usr/local/parabricks/binaries/model/80+/shortread/deepvariant_wes.eng --channel_insert_size --pileup_image_width 221 --max_reads_per_partition 1500 --partition_size 1000 --vsc_min_count_snps 2 --vsc_min_count_indels 2 --vsc_min_fraction_snps 0.12 --min_mapping_quality 5 --min_base_quality 10 --alt_aligned_pileup none --variant_caller VERY_SENSITIVE_CALLER --dbg_min_base_quality 15 --ws_min_windows_distance 80 --aux_fields_to_keep HP --p_error 0.001 --max_ins_size 10\n",
      "[PB Info 2025-Mar-04 21:38:34] ------------------------------------------------------------------------------\n",
      "[PB Info 2025-Mar-04 21:38:34] ||                 Parabricks accelerated Genomics Pipeline                 ||\n",
      "[PB Info 2025-Mar-04 21:38:34] ||                              Version 4.4.0-1                             ||\n",
      "[PB Info 2025-Mar-04 21:38:34] ||                                deepvariant                               ||\n",
      "[PB Info 2025-Mar-04 21:38:34] ------------------------------------------------------------------------------\n",
      "[PB Info 2025-Mar-04 21:38:34] Starting DeepVariant\n",
      "[PB Info 2025-Mar-04 21:38:34] Running with 1 GPU devices, each with 2 group instances and 6 workers\n",
      "[PB Info 2025-Mar-04 21:38:34] ProgressMeter -\tCurrent-Locus\tElapsed-Minutes\n",
      "[PB Info 2025-Mar-04 21:38:40] ProgressMeter -\tchr1:14000\t0.1\n",
      "[PB Info 2025-Mar-04 21:38:46] ProgressMeter -\tchr1:14000\t0.2\n",
      "[PB Info 2025-Mar-04 21:38:52] ProgressMeter -\tchr1:14000\t0.3\n",
      "[PB Info 2025-Mar-04 21:38:58] ProgressMeter -\tchr1:14000\t0.4\n",
      "[PB Info 2025-Mar-04 21:39:04] ProgressMeter -\tchr1:966000\t0.5\n",
      "[PB Info 2025-Mar-04 21:39:10] ProgressMeter -\tchr1:4018000\t0.6\n",
      "[PB Info 2025-Mar-04 21:39:16] ProgressMeter -\tchr1:24697000\t0.7\n",
      "[PB Info 2025-Mar-04 21:39:22] ProgressMeter -\tchr1:35427000\t0.8\n",
      "[PB Info 2025-Mar-04 21:39:28] ProgressMeter -\tchr1:59938000\t0.9\n",
      "[PB Info 2025-Mar-04 21:39:34] ProgressMeter -\tchr1:90174000\t1.0\n",
      "[PB Info 2025-Mar-04 21:39:40] ProgressMeter -\tchr1:147860000\t1.1\n",
      "[PB Info 2025-Mar-04 21:39:46] ProgressMeter -\tchr1:167666000\t1.2\n",
      "[PB Info 2025-Mar-04 21:39:52] ProgressMeter -\tchr1:205795000\t1.3\n",
      "[PB Info 2025-Mar-04 21:39:58] ProgressMeter -\tchr1:228109000\t1.4\n",
      "[PB Info 2025-Mar-04 21:40:04] ProgressMeter -\tchr2:27490000\t1.5\n",
      "[PB Info 2025-Mar-04 21:40:10] ProgressMeter -\tchr2:84797000\t1.6\n",
      "[PB Info 2025-Mar-04 21:40:16] ProgressMeter -\tchr2:128814000\t1.7\n",
      "[PB Info 2025-Mar-04 21:40:22] ProgressMeter -\tchr2:157077000\t1.8\n",
      "[PB Info 2025-Mar-04 21:40:28] ProgressMeter -\tchr2:196364000\t1.9\n",
      "[PB Info 2025-Mar-04 21:40:34] ProgressMeter -\tchr2:234360000\t2.0\n",
      "[PB Info 2025-Mar-04 21:40:40] ProgressMeter -\tchr3:10403000\t2.1\n",
      "[PB Info 2025-Mar-04 21:40:46] ProgressMeter -\tchr3:45612000\t2.2\n",
      "[PB Info 2025-Mar-04 21:40:52] ProgressMeter -\tchr3:77790000\t2.3\n",
      "[PB Info 2025-Mar-04 21:40:58] ProgressMeter -\tchr3:117752000\t2.4\n",
      "[PB Info 2025-Mar-04 21:41:04] ProgressMeter -\tchr3:151967000\t2.5\n",
      "[PB Info 2025-Mar-04 21:41:10] ProgressMeter -\tchr3:196499000\t2.6\n",
      "[PB Info 2025-Mar-04 21:41:16] ProgressMeter -\tchr4:53458000\t2.7\n",
      "[PB Info 2025-Mar-04 21:41:22] ProgressMeter -\tchr4:118621000\t2.8\n",
      "[PB Info 2025-Mar-04 21:41:28] ProgressMeter -\tchr4:183260000\t2.9\n",
      "[PB Info 2025-Mar-04 21:41:34] ProgressMeter -\tchr5:29013000\t3.0\n",
      "[PB Info 2025-Mar-04 21:41:40] ProgressMeter -\tchr5:91572000\t3.1\n",
      "[PB Info 2025-Mar-04 21:41:46] ProgressMeter -\tchr5:140836000\t3.2\n",
      "[PB Info 2025-Mar-04 21:41:52] ProgressMeter -\tchr5:164921000\t3.3\n",
      "[PB Info 2025-Mar-04 21:41:58] ProgressMeter -\tchr6:34864000\t3.4\n",
      "[PB Info 2025-Mar-04 21:42:04] ProgressMeter -\tchr6:77939000\t3.5\n",
      "[PB Info 2025-Mar-04 21:42:10] ProgressMeter -\tchr6:120803000\t3.6\n",
      "[PB Info 2025-Mar-04 21:42:16] ProgressMeter -\tchr6:159127000\t3.7\n",
      "[PB Info 2025-Mar-04 21:42:22] ProgressMeter -\tchr7:30488000\t3.8\n",
      "[PB Info 2025-Mar-04 21:42:28] ProgressMeter -\tchr7:69681000\t3.9\n",
      "[PB Info 2025-Mar-04 21:42:34] ProgressMeter -\tchr7:102554000\t4.0\n",
      "[PB Info 2025-Mar-04 21:42:40] ProgressMeter -\tchr7:135628000\t4.1\n",
      "[PB Info 2025-Mar-04 21:42:46] ProgressMeter -\tchr8:22265000\t4.2\n",
      "[PB Info 2025-Mar-04 21:42:52] ProgressMeter -\tchr8:67013000\t4.3\n",
      "[PB Info 2025-Mar-04 21:42:58] ProgressMeter -\tchr8:108248000\t4.4\n",
      "[PB Info 2025-Mar-04 21:43:04] ProgressMeter -\tchr9:2827000\t4.5\n",
      "[PB Info 2025-Mar-04 21:43:10] ProgressMeter -\tchr9:76343000\t4.6\n",
      "[PB Info 2025-Mar-04 21:43:16] ProgressMeter -\tchr9:99615000\t4.7\n",
      "[PB Info 2025-Mar-04 21:43:22] ProgressMeter -\tchr9:126781000\t4.8\n",
      "[PB Info 2025-Mar-04 21:43:28] ProgressMeter -\tchr10:7688000\t4.9\n",
      "[PB Info 2025-Mar-04 21:43:34] ProgressMeter -\tchr10:27426000\t5.0\n",
      "[PB Info 2025-Mar-04 21:43:40] ProgressMeter -\tchr10:73798000\t5.1\n",
      "[PB Info 2025-Mar-04 21:43:46] ProgressMeter -\tchr10:83713000\t5.2\n",
      "[PB Info 2025-Mar-04 21:43:52] ProgressMeter -\tchr10:126498000\t5.3\n",
      "[PB Info 2025-Mar-04 21:43:58] ProgressMeter -\tchr11:4576000\t5.4\n",
      "[PB Info 2025-Mar-04 21:44:04] ProgressMeter -\tchr11:25536000\t5.5\n",
      "[PB Info 2025-Mar-04 21:44:10] ProgressMeter -\tchr11:76065000\t5.6\n",
      "[PB Info 2025-Mar-04 21:44:16] ProgressMeter -\tchr11:99196000\t5.7\n",
      "[PB Info 2025-Mar-04 21:44:22] ProgressMeter -\tchr12:12966000\t5.8\n",
      "[PB Info 2025-Mar-04 21:44:28] ProgressMeter -\tchr12:37246000\t5.9\n",
      "[PB Info 2025-Mar-04 21:44:34] ProgressMeter -\tchr12:57457000\t6.0\n",
      "[PB Info 2025-Mar-04 21:44:40] ProgressMeter -\tchr12:95145000\t6.1\n",
      "[PB Info 2025-Mar-04 21:44:46] ProgressMeter -\tchr12:106584000\t6.2\n",
      "[PB Info 2025-Mar-04 21:44:52] ProgressMeter -\tchr13:48141000\t6.3\n",
      "[PB Info 2025-Mar-04 21:44:58] ProgressMeter -\tchr13:102117000\t6.4\n",
      "[PB Info 2025-Mar-04 21:45:04] ProgressMeter -\tchr14:44152000\t6.5\n",
      "[PB Info 2025-Mar-04 21:45:10] ProgressMeter -\tchr14:71898000\t6.6\n",
      "[PB Info 2025-Mar-04 21:45:16] ProgressMeter -\tchr15:24784000\t6.7\n",
      "[PB Info 2025-Mar-04 21:45:22] ProgressMeter -\tchr15:48038000\t6.8\n",
      "[PB Info 2025-Mar-04 21:45:28] ProgressMeter -\tchr15:71038000\t6.9\n",
      "[PB Info 2025-Mar-04 21:45:34] ProgressMeter -\tchr16:4712000\t7.0\n",
      "[PB Info 2025-Mar-04 21:45:40] ProgressMeter -\tchr16:50535000\t7.1\n",
      "[PB Info 2025-Mar-04 21:45:46] ProgressMeter -\tchr16:68319000\t7.2\n",
      "[PB Info 2025-Mar-04 21:45:52] ProgressMeter -\tchr16:88867000\t7.3\n",
      "[PB Info 2025-Mar-04 21:45:58] ProgressMeter -\tchr17:7594000\t7.4\n",
      "[PB Info 2025-Mar-04 21:46:04] ProgressMeter -\tchr17:21001000\t7.5\n",
      "[PB Info 2025-Mar-04 21:46:10] ProgressMeter -\tchr17:44338000\t7.6\n",
      "[PB Info 2025-Mar-04 21:46:16] ProgressMeter -\tchr17:70997000\t7.7\n",
      "[PB Info 2025-Mar-04 21:46:22] ProgressMeter -\tchr18:31960000\t7.8\n",
      "[PB Info 2025-Mar-04 21:46:28] ProgressMeter -\tchr18:55607000\t7.9\n",
      "[PB Info 2025-Mar-04 21:46:34] ProgressMeter -\tchr18:79096000\t8.0\n",
      "[PB Info 2025-Mar-04 21:46:40] ProgressMeter -\tchr19:10636000\t8.1\n",
      "[PB Info 2025-Mar-04 21:46:46] ProgressMeter -\tchr19:21047000\t8.2\n",
      "[PB Info 2025-Mar-04 21:46:52] ProgressMeter -\tchr19:47742000\t8.3\n",
      "[PB Info 2025-Mar-04 21:46:58] ProgressMeter -\tchr19:58454000\t8.4\n",
      "[PB Info 2025-Mar-04 21:47:04] ProgressMeter -\tchr20:31170000\t8.5\n",
      "[PB Info 2025-Mar-04 21:47:10] ProgressMeter -\tchr20:62296000\t8.6\n",
      "[PB Info 2025-Mar-04 21:47:16] ProgressMeter -\tchr21:36563000\t8.7\n",
      "[PB Info 2025-Mar-04 21:47:22] ProgressMeter -\tchr22:21912000\t8.8\n",
      "[PB Info 2025-Mar-04 21:47:28] ProgressMeter -\tchr22:46687000\t8.9\n",
      "[PB Info 2025-Mar-04 21:47:34] ProgressMeter -\tchrX:41798000\t9.0\n",
      "[PB Info 2025-Mar-04 21:47:40] ProgressMeter -\tchrX:100720000\t9.1\n",
      "[PB Info 2025-Mar-04 21:47:46] Deepvariant is finished, total time is 552.574 seconds\n",
      "[PB Info 2025-Mar-04 21:47:46] ------------------------------------------------------------------------------\n",
      "[PB Info 2025-Mar-04 21:47:46] ||        Program:                                       deepvariant        ||\n",
      "[PB Info 2025-Mar-04 21:47:46] ||        Version:                                           4.4.0-1        ||\n",
      "[PB Info 2025-Mar-04 21:47:46] ||        Start Time:                       Tue Mar  4 21:38:34 2025        ||\n",
      "[PB Info 2025-Mar-04 21:47:46] ||        End Time:                         Tue Mar  4 21:47:46 2025        ||\n",
      "[PB Info 2025-Mar-04 21:47:46] ||        Total Time:                           9 minutes 12 seconds        ||\n",
      "[PB Info 2025-Mar-04 21:47:46] ------------------------------------------------------------------------------\n",
      "Variant caller done, total time: 9.3 min\n"
     ]
    }
   ],
   "source": [
    "!sh scripts/deepvariant.sh"
   ]
  },
  {
   "cell_type": "markdown",
   "metadata": {},
   "source": [
    "DeepVariant is a variant caller that uses a convolutional neural network (CNN) as opposed to bayesian statistics to discover variants. This method often performs better, especially on low frequency variants. It has the added benefit that it can be retrained to improve performance on any dataset. In this blueprint, we will use the [GPU optimized version of DeepVariant found in Parabricks](https://docs.nvidia.com/clara/parabricks/latest/documentation/tooldocs/man_deepvariant.html).  "
   ]
  },
  {
   "cell_type": "markdown",
   "metadata": {},
   "source": [
    "Now let's see how to run fq2bam by opening up `scripts/deepvariant.sh`. We have pasted the contents of this file below. "
   ]
  },
  {
   "cell_type": "markdown",
   "metadata": {},
   "source": [
    "```\n",
    "#!/bin/bash \n",
    "\n",
    "REF=\"data/ref/Homo_sapiens_assembly38.fasta\"\n",
    "IN_BAM=\"data/output/NIST7035_TAAGGCGA_L001_R1_001.bam\"\n",
    "OUT_VCF=\"data/output/NIST7035_TAAGGCGA_L001_R1_001.vcf\"\n",
    "\n",
    "pbrun deepvariant \\\n",
    "    --ref ${REF} \\\n",
    "    --in-bam ${IN_BAM} \\\n",
    "    --out-variants ${OUT_VCF} \\\n",
    "    --use-wes-model \\\n",
    "    --run-parition \n",
    "```"
   ]
  },
  {
   "cell_type": "markdown",
   "metadata": {},
   "source": [
    "Just like the fq2bam script, the beginning of the script defines the file paths needed to run Parabricks DeepVariant. This time we only need the reference `.fasta`, the aligned reads `.bam` file generated by fq2bam in the previous section, and the path to the output `.vcf` to store the variants. \n",
    "\n",
    "At the end of the script is the run command. Just as before, it starts with `pbrun` but this time instead of `fq2bam` we are running `deepvariant` with a minimal set of arguments. The file inputs are familiar, but let's look into the additional flag at the end. \n",
    "\n",
    "DeepVariant is based on a CNN model. Different CNNs can be trained on different datasets. By default, Parabricks DeepVariant uses a model trained on whole genome (WGS) data, however in this blueprint we are using an exome and must therefore use a CNN trained on whole exome (WES) data. To do this, we use the `--use-wes-model` argument. \n",
    "\n",
    "For more information on all the flags, check out the [documentation](https://docs.nvidia.com/clara/parabricks/latest/documentation/tooldocs/man_deepvariant.html#deepvariant-reference). "
   ]
  },
  {
   "cell_type": "markdown",
   "metadata": {},
   "source": [
    "Once the cell executing deepvariant has finished running, we can look inside the `data/output` folder and see the that `.vcf` file containing the variants has been generated. "
   ]
  },
  {
   "cell_type": "code",
   "execution_count": 6,
   "metadata": {},
   "outputs": [
    {
     "name": "stdout",
     "output_type": "stream",
     "text": [
      "NIST7035_TAAGGCGA_L001_R1_001.vcf\n"
     ]
    }
   ],
   "source": [
    "! ls data/output | grep .vcf"
   ]
  },
  {
   "cell_type": "markdown",
   "metadata": {},
   "source": [
    "## Next Steps"
   ]
  },
  {
   "cell_type": "markdown",
   "metadata": {},
   "source": [
    " TODO: CTA"
   ]
  }
 ],
 "metadata": {
  "kernelspec": {
   "display_name": "Python 3 (ipykernel)",
   "language": "python",
   "name": "python3"
  },
  "language_info": {
   "codemirror_mode": {
    "name": "ipython",
    "version": 3
   },
   "file_extension": ".py",
   "mimetype": "text/x-python",
   "name": "python",
   "nbconvert_exporter": "python",
   "pygments_lexer": "ipython3",
   "version": "3.11.11"
  }
 },
 "nbformat": 4,
 "nbformat_minor": 4
}
