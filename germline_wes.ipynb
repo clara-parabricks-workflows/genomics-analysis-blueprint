{
	"cells": [
		{
			"cell_type": "markdown",
			"metadata": {},
			"source": [
				"# Germline Analysis Blueprint "
			]
		},
		{
			"cell_type": "markdown",
			"metadata": {},
			"source": [
				"This notebook shows how to run Germline analysis on WES data. "
			]
		},
		{
			"cell_type": "markdown",
			"metadata": {},
			"source": [
				"## Dataset"
			]
		},
		{
			"cell_type": "markdown",
			"metadata": {},
			"source": [
				"The data set used in this lab is an exome NA12878 from the [NIH](https://ftp-trace.ncbi.nlm.nih.gov/ReferenceSamples/giab/data_indexes/NA12878/sequence.index.NA12878_Illumina_HiSeq_Exome_Garvan_fastq_09252015) sequenced on Illumina. The two fastq files and the reference files can be downloaded using the `download_data.sh` script. "
			]
		},
		{
			"cell_type": "code",
			"execution_count": null,
			"metadata": {},
			"outputs": [],
			"source": [
				"! ./download_data.sh"
			]
		},
		{
			"cell_type": "markdown",
			"metadata": {},
			"source": [
				"It will take around 15 minutes to download and organize the data. "
			]
		},
		{
			"cell_type": "code",
			"execution_count": null,
			"metadata": {},
			"outputs": [],
			"source": [
				"! ls data"
			]
		},
		{
			"cell_type": "markdown",
			"metadata": {},
			"source": [
				"## Alignment"
			]
		},
		{
			"cell_type": "markdown",
			"metadata": {},
			"source": [
				"In this step we will run BWA alignment using [Parabricks fq2bam](https://docs.nvidia.com/clara/parabricks/latest/documentation/tooldocs/man_fq2bam.html) tool. "
			]
		},
		{
			"cell_type": "code",
			"execution_count": null,
			"metadata": {},
			"outputs": [],
			"source": [
				"%%sh\n",
				"\n",
				"DOCKER_IMAGE=\"nvcr.io/nvidia/clara/clara-parabricks:4.4.0-1\"\n",
				"\n",
				"DATA_DIR=\"$PWD/data\"\n",
				"\n",
				"REF=\"ref/Homo_sapiens_assembly38.fasta\"\n",
				"FASTQ_1=\"NIST7035_TAAGGCGA_L001_R1_001.fastq.gz\"\n",
				"FASTQ_2=\"NIST7035_TAAGGCGA_L001_R2_001.fastq.gz\"\n",
				"OUT_BAM=\"NIST7035_TAAGGCGA_L001_R1_001.bam\"\n",
				"\n",
				"docker run --gpus all --rm \\\n",
				"    -v ${DATA_DIR}:${DATA_DIR} \\\n",
				"    -w ${DATA_DIR} \\\n",
				"    ${DOCKER_IMAGE} pbrun fq2bam \\\n",
				"    --ref ${REF} \\\n",
				"    --in-fq ${FASTQ_1} ${FASTQ_2} \\\n",
				"    --out-bam ${OUT_BAM}"
			]
		},
		{
			"cell_type": "markdown",
			"metadata": {},
			"source": [
				"Looking in the data folder now, we now see the generated bam files. "
			]
		},
		{
			"cell_type": "code",
			"execution_count": null,
			"metadata": {},
			"outputs": [],
			"source": [
				"! ls data | grep .bam"
			]
		},
		{
			"cell_type": "markdown",
			"metadata": {},
			"source": [
				"\n",
				"## Variant Calling"
			]
		},
		{
			"cell_type": "markdown",
			"metadata": {},
			"source": [
				"In this step we will run [Parabricks DeepVariant](https://docs.nvidia.com/clara/parabricks/latest/documentation/tooldocs/man_deepvariant.html). Since we are using exomes, we must include the `--use-wes-model` flag. "
			]
		},
		{
			"cell_type": "code",
			"execution_count": null,
			"metadata": {},
			"outputs": [],
			"source": [
				"%%sh\n",
				"\n",
				"DOCKER_IMAGE=\"nvcr.io/nvidia/clara/clara-parabricks:4.4.0-1\"\n",
				"\n",
				"DATA_DIR=\"$PWD/data\"\n",
				"\n",
				"REF=\"ref/Homo_sapiens_assembly38.fasta\"\n",
				"IN_BAM=\"NIST7035_TAAGGCGA_L001_R1_001.bam\"\n",
				"OUT_VCF=\"NIST7035_TAAGGCGA_L001_R1_001.vcf\"\n",
				"\n",
				"docker run --gpus all --rm \\\n",
				"    -v ${DATA_DIR}:${DATA_DIR} \\\n",
				"    -w ${DATA_DIR} \\\n",
				"    ${DOCKER_IMAGE} pbrun deepvariant \\\n",
				"    --ref ${REF} \\\n",
				"    --in-bam ${IN_BAM} \\\n",
				"    --out-variants ${OUT_VCF} \\\n",
				"    --use-wes-model"
			]
		},
		{
			"cell_type": "markdown",
			"metadata": {},
			"source": [
				"Looking in the data folder now, we now see the generated vcf files. "
			]
		},
		{
			"cell_type": "code",
			"execution_count": null,
			"metadata": {},
			"outputs": [],
			"source": [
				"! ls data | grep .vcf"
			]
		},
		{
			"cell_type": "markdown",
			"metadata": {},
			"source": [
				"## Next Steps"
			]
		},
		{
			"cell_type": "markdown",
			"metadata": {},
			"source": [
				"Try running Germline analysis on your own data. "
			]
		}
	],
	"metadata": {
		"kernelspec": {
			"display_name": "Python 3",
			"language": "python",
			"name": "python3"
		},
		"language_info": {
			"codemirror_mode": {
				"name": "ipython",
				"version": 3
			},
			"file_extension": ".py",
			"mimetype": "text/x-python",
			"name": "python",
			"nbconvert_exporter": "python",
			"pygments_lexer": "ipython3",
			"version": "3.10.12"
		}
	},
	"nbformat": 4,
	"nbformat_minor": 2
}
