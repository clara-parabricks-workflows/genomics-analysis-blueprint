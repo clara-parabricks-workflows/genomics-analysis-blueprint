{
	 "cells": [
	   {
		      "cell_type": "markdown",
		         "metadata": {},
			    "source": [
			        "# Germline BrevDev Blueprint"
				   ]
				     },
			       {
				          "cell_type": "markdown",
					     "metadata": {},
					        "source": [
						    "NVIDIA Parabricks® is the only GPU-accelerated computational genomics toolkit that delivers fast and accurate analysis for sequencing centers, clinical teams, genomics researchers, and next-generation sequencing instrument developers. Parabricks provides GPU-accelerated versions of tools used every day by computational biologists and bioinformaticians—enabling significantly faster runtimes, workflow scalability, and lower compute costs.\n",
						        "\n",
							    "The toolkit includes full compatibility with workflow languages and managers (WDL, NextFlow, Cromwell) to easily intertwine GPU- and CPU-powered tasks, as well as support for easy cloud deployment (AWS, GCP, Terra, and DNAnexus).\n",
							        "\n",
								    "[Workflow diagram]"
								       ]
								         },
								   {
									      "cell_type": "markdown",
									         "metadata": {},
										    "source": [
										        "## Dataset"
											   ]
											     },
										       {
											          "cell_type": "markdown",
												     "metadata": {},
												        "source": [
													    "This data is / comes from ..."
													       ]
													         },
													   {
														      "cell_type": "code",
														         "execution_count": 3,
															    "metadata": {},
															       "outputs": [
															           {
																	        "name": "stdout",
																		     "output_type": "stream",
																		          "text": [
																			        "\u001b[01;34mdata\u001b[0m\n",
																				      "└── \u001b[01;34moutput\u001b[0m\n",
																				            "\n",
																					          "1 directory, 0 files\n"
																						       ]
																						           }
																						      ],
																						         "source": [
																							     "! tree data"
																							        ]
																								  },
																							    {
																								       "cell_type": "markdown",
																								          "metadata": {},
																									     "source": [
																									         "Add an output directory"
																										    ]
																										      },
																									        {
																											   "cell_type": "code",
																											      "execution_count": 2,
																											         "metadata": {},
																												    "outputs": [],
																												       "source": [
																												           "! mkdir -p data/output"
																													      ]
																													        },
																													  {
																														     "cell_type": "markdown",
																														        "metadata": {},
																															   "source": [
																															       "## Alignment"
																															          ]
																																    },
																															      {
																																         "cell_type": "code",
																																	    "execution_count": null,
																																	       "metadata": {},
																																	          "outputs": [],
																																		     "source": [
																																		         "%%sh\n",
																																			     "\n",
																																			         "# Note: How big should the data be? How fast should this example run? \n",
																																				     "REF=\"data/ref/Homo_sapiens_assembly38.fasta\"\n",
																																				         "KNOWN_SITES=\"data/ref/Homo_sapiens_assembly38.known_indels.vcf.gz\"\n",
																																					     "FASTQ_1=\"data/fastq/sample_1.fq.gz\"\n",
																																					         "FASTQ_2=\"data/fastq/sample_2.fq.gz\"\n",
																																						     "\n",
																																						         "pbrun fq2bam ... "
																																							    ]
																																							      },
																																						        {
																																								   "cell_type": "markdown",
																																								      "metadata": {},
																																								         "source": [
																																									     "\n",
																																									         "## Variant Calling"
																																										    ]
																																										      },
																																									        {
																																											   "cell_type": "code",
																																											      "execution_count": null,
																																											         "metadata": {},
																																												    "outputs": [],
																																												       "source": [
																																												           "%%sh\n",
																																													       "\n",
																																													           "# Note: How big should the data be? How fast should this example run? \n",
																																														       "REF=\"data/ref/Homo_sapiens_assembly38.fasta\"\n",
																																														           "KNOWN_SITES=\"data/ref/Homo_sapiens_assembly38.known_indels.vcf.gz\"\n",
																																															       "FASTQ_1=\"data/fastq/sample_1.fq.gz\"\n",
																																															           "FASTQ_2=\"data/fastq/sample_2.fq.gz\"\n",
																																																       "\n",
																																																           "pbrun deepvariant ... "
																																																	      ]
																																																	        },
																																																	  {
																																																		     "cell_type": "markdown",
																																																		        "metadata": {},
																																																			   "source": [
																																																			       "## Check Accuracy"
																																																			          ]
																																																				    },
																																																			      {
																																																				         "cell_type": "code",
																																																					    "execution_count": null,
																																																					       "metadata": {},
																																																					          "outputs": [],
																																																						     "source": [
																																																						         "%%sh\n",
																																																							     "\n",
																																																							         "EVAL_VCF=\"\"\n",
																																																								     "TRUTH_VCF=\"\"\n",
																																																								         "TRUTH_BED=\"\"\n",
																																																									     "OUT_FILE=\"$(basename -s .vcf $EVAL_VCF).output\"\n",
																																																									         "\n",
																																																										     "/opt/hap.py/bin/hap.py \\\n",
																																																										         "    /data/${TRUTH_VCF} \\\n",
																																																											     "    /data/${EVAL_VCF} \\\n",
																																																											         "    -f /data/${TRUTH_BED} \\\n",
																																																												     "    -r /data/ref/ucsc.hg19.fasta \\\n",
																																																												         "    -o /data/${OUT_FILE} \\\n",
																																																													     "    --engine=vcfeval \\\n",
																																																													         "    --pass-only"
																																																														    ]
																																																														      },
																																																													        {
																																																															   "cell_type": "markdown",
																																																															      "metadata": {},
																																																															         "source": [
																																																																     "## Next Steps"
																																																																        ]
																																																																	  },
																																																																    {
																																																																	       "cell_type": "markdown",
																																																																	          "metadata": {},
																																																																		     "source": [
																																																																		         "Expand on the work done here. Download locally or run in the cloud. "
																																																																			    ]
																																																																			      }
																																																																		       ],
																																																																		        "metadata": {
																																																																			  "kernelspec": {
																																																																			     "display_name": "Python 3",
																																																																			        "language": "python",
																																																																				   "name": "python3"
																																																																				     },
																																																																			       "language_info": {
																																																																			          "codemirror_mode": {
																																																																				      "name": "ipython",
																																																																				          "version": 3
																																																																					     },
																																																																				        "file_extension": ".py",
																																																																					   "mimetype": "text/x-python",
																																																																					      "name": "python",
																																																																					         "nbconvert_exporter": "python",
																																																																						    "pygments_lexer": "ipython3",
																																																																						       "version": "3.10.12"
																																																																						         }
																																																																						  },
																																																																					   "nbformat": 4,
																																																																					    "nbformat_minor": 2
																																																																				    }
