{
	"cells": [
		{
			"cell_type": "markdown",
			"metadata": {},
			"source": [
				"# Germline BrevDev Blueprint"
			]
		},
		{
			"cell_type": "markdown",
			"metadata": {},
			"source": [
				"NVIDIA Parabricks® is the only GPU-accelerated computational genomics toolkit that delivers fast and accurate analysis for sequencing centers, clinical teams, genomics researchers, and next-generation sequencing instrument developers. Parabricks provides GPU-accelerated versions of tools used every day by computational biologists and bioinformaticians—enabling significantly faster runtimes, workflow scalability, and lower compute costs.\n",
				"\n",
				"The toolkit includes full compatibility with workflow languages and managers (WDL, NextFlow, Cromwell) to easily intertwine GPU- and CPU-powered tasks, as well as support for easy cloud deployment (AWS, GCP, Terra, and DNAnexus).\n",
				"\n",
				"[Workflow diagram]"
			]
		},
		{
			"cell_type": "markdown",
			"metadata": {},
			"source": [
				"## Dataset"
			]
		},
		{
			"cell_type": "markdown",
			"metadata": {},
			"source": [
				"This data is / comes from ..."
			]
		},
		{
			"cell_type": "code",
			"execution_count": null,
			"metadata": {},
			"outputs": [],
			"source": [
				"! wget -O parabricks_sample.tar.gz https://s3.amazonaws.com/parabricks.sample/parabricks_sample.tar.gz"
			]
		},
		{
			"cell_type": "code",
			"execution_count": null,
			"metadata": {},
			"outputs": [],
			"source": [
				"! tar xzvf parabricks_sample.tar.gz"
			]
		},
		{
			"cell_type": "code",
			"execution_count": null,
			"metadata": {},
			"outputs": [],
			"source": [
				"! tree parabricks_sample"
			]
		},
		{
			"cell_type": "markdown",
			"metadata": {},
			"source": [
				"Add an output directory"
			]
		},
		{
			"cell_type": "markdown",
			"metadata": {},
			"source": [
				"## Alignment"
			]
		},
		{
			"cell_type": "code",
			"execution_count": null,
			"metadata": {},
			"outputs": [],
			"source": [
				"%%sh\n",
				"\n",
				"DOCKER_IMAGE=\"nvcr.io/nvidia/clara/clara-parabricks:4.4.0-1\"\n",
				"\n",
				"DATA_DIR=\"parabricks_sample/Data\"\n",
				"REF_DIR=\"parabricks_sample/Ref\"\n",
				"\n",
				"REF=\"${REF_DIR}/Homo_sapiens_assembly38.fasta\"\n",
				"FASTQ_1=\"${DATA_DIR}/sample_1.fq.gz\"\n",
				"FASTQ_2=\"${DATA_DIR}/sample_2.fq.gz\"\n",
				"OUT_BAM=\"${DATA_DIR}/sample.bam\"\n",
				"\n",
				"docker run --gpus all --rm \\\n",
				"    -v `pwd`:`pwd` \\\n",
				"    ${DOCKER_IMAGE} pbrun fq2bam \\\n",
				"    --ref ${REF} \\\n",
				"    --in-fq ${FASTQ_1} ${FASTQ_2} \\\n",
				"    --out-bam ${OUT_BAM}"
			]
		},
		{
			"cell_type": "markdown",
			"metadata": {},
			"source": [
				"\n",
				"## Variant Calling"
			]
		},
		{
			"cell_type": "code",
			"execution_count": null,
			"metadata": {},
			"outputs": [],
			"source": [
				"%%sh\n",
				"\n",
				"DOCKER_IMAGE=\"nvcr.io/nvidia/clara/clara-parabricks:4.4.0-1\"\n",
				"\n",
				"DATA_DIR=\"parabricks_sample/Data\"\n",
				"REF_DIR=\"parabricks_sample/Ref\"\n",
				"\n",
				"REF=\"${REF_DIR}/Homo_sapiens_assembly38.fasta\"\n",
				"IN_BAM=\"${DATA_DIR}/sample.bam\"\n",
				"\n",
				"docker run --gpus all --rm \\\n",
				"    -v `pwd`:`pwd` \\\n",
				"    ${DOCKER_IMAGE} pbrun deepvariant \\\n",
				"    --ref ${REF} \\\n",
				"    --in-bam ${DATA_DIR}/sample.bam \\\n",
				"    --out-variants ${IN_BAM} "
			]
		},
		{
			"cell_type": "markdown",
			"metadata": {},
			"source": [
				"## Next Steps"
			]
		}
	],
	"metadata": {
		"kernelspec": {
			"display_name": "Python 3",
			"language": "python",
			"name": "python3"
		},
		"language_info": {
			"codemirror_mode": {
				"name": "ipython",
				"version": 3
			},
			"file_extension": ".py",
			"mimetype": "text/x-python",
			"name": "python",
			"nbconvert_exporter": "python",
			"pygments_lexer": "ipython3",
			"version": "3.10.12"
		}
	},
	"nbformat": 4,
	"nbformat_minor": 2
}
