{
	"cells": [
		{
			"cell_type": "markdown",
			"metadata": {},
			"source": [
				"# Germline Analysis Blueprint "
			]
		},
		{
			"cell_type": "markdown",
			"metadata": {},
			"source": [
				"This notebook shows how to run Germline analysis on WES data. "
			]
		},
		{
			"cell_type": "markdown",
			"metadata": {},
			"source": [
				"## Dataset"
			]
		},
		{
			"cell_type": "markdown",
			"metadata": {},
			"source": [
				"The data set used in this lab is an exome NA12878 from the [NIH](https://ftp-trace.ncbi.nlm.nih.gov/ReferenceSamples/giab/data_indexes/NA12878/sequence.index.NA12878_Illumina_HiSeq_Exome_Garvan_fastq_09252015) sequenced on Illumina. The two fastq files and the reference files can be found in `data` and total to 12 GB in size"
			]
		},
		{
			"cell_type": "code",
			"execution_count": 2,
			"metadata": {},
			"outputs": [
				{
					"name": "stdout",
					"output_type": "stream",
					"text": [
						"\u001b[01;34mdata\u001b[0m\n",
						"├── \u001b[00mdata_source.txt\u001b[0m\n",
						"├── \u001b[01;31mNIST7035_TAAGGCGA_L001_R1_001.fastq.gz\u001b[0m\n",
						"├── \u001b[01;31mNIST7035_TAAGGCGA_L001_R2_001.fastq.gz\u001b[0m\n",
						"└── \u001b[01;34mref\u001b[0m\n",
						"    ├── \u001b[00mHomo_sapiens_assembly38.dict\u001b[0m\n",
						"    ├── \u001b[00mHomo_sapiens_assembly38.fasta\u001b[0m\n",
						"    ├── \u001b[00mHomo_sapiens_assembly38.fasta.amb\u001b[0m\n",
						"    ├── \u001b[00mHomo_sapiens_assembly38.fasta.ann\u001b[0m\n",
						"    ├── \u001b[00mHomo_sapiens_assembly38.fasta.bwt\u001b[0m\n",
						"    ├── \u001b[00mHomo_sapiens_assembly38.fasta.fai\u001b[0m\n",
						"    ├── \u001b[00mHomo_sapiens_assembly38.fasta.pac\u001b[0m\n",
						"    ├── \u001b[00mHomo_sapiens_assembly38.fasta.sa\u001b[0m\n",
						"    ├── \u001b[01;31mHomo_sapiens_assembly38.known_indels.vcf.gz\u001b[0m\n",
						"    └── \u001b[00mHomo_sapiens_assembly38.known_indels.vcf.gz.tbi\u001b[0m\n",
						"\n",
						"1 directory, 13 files\n"
					]
				}
			],
			"source": [
				"! tree data"
			]
		},
		{
			"cell_type": "markdown",
			"metadata": {},
			"source": [
				"## Alignment"
			]
		},
		{
			"cell_type": "markdown",
			"metadata": {},
			"source": [
				"In this step we will run BWA alignment using [Parabricks fq2bam](https://docs.nvidia.com/clara/parabricks/latest/documentation/tooldocs/man_fq2bam.html) tool. "
			]
		},
		{
			"cell_type": "code",
			"execution_count": null,
			"metadata": {},
			"outputs": [
				{
					"name": "stdout",
					"output_type": "stream",
					"text": [
						"\n",
						"[Parabricks Options Mesg]: Checking argument compatibility\n",
						"[Parabricks Options Mesg]: Set --bwa-options=\"-K #\" to produce compatible pair-ended results with previous versions of\n",
						"fq2bam or BWA MEM.\n",
						"[Parabricks Options Mesg]: Automatically generating ID prefix\n",
						"[Parabricks Options Mesg]: Read group created for /home/gburnett/repos/parabricks-germline-\n",
						"brevdev/data/NIST7035_TAAGGCGA_L001_R1_001.fastq.gz and /home/gburnett/repos/parabricks-germline-\n",
						"brevdev/data/NIST7035_TAAGGCGA_L001_R2_001.fastq.gz\n",
						"[Parabricks Options Mesg]: @RG\\tID:H7AP8ADXX.1\\tLB:lib1\\tPL:bar\\tSM:sample\\tPU:H7AP8ADXX.1\n"
					]
				},
				{
					"name": "stderr",
					"output_type": "stream",
					"text": [
						"[PB Info 2025-Feb-13 19:57:53] ------------------------------------------------------------------------------\n",
						"[PB Info 2025-Feb-13 19:57:53] ||                 Parabricks accelerated Genomics Pipeline                 ||\n",
						"[PB Info 2025-Feb-13 19:57:53] ||                              Version 4.4.0-1                             ||\n",
						"[PB Info 2025-Feb-13 19:57:53] ||                      GPU-PBBWA mem, Sorting Phase-I                      ||\n",
						"[PB Info 2025-Feb-13 19:57:53] ------------------------------------------------------------------------------\n",
						"[PB Info 2025-Feb-13 19:57:53] Mode = pair-ended-gpu\n",
						"[PB Info 2025-Feb-13 19:57:53] Running with 4 GPU(s), using 4 stream(s) per device with 16 worker threads per GPU\n",
						"[PB Info 2025-Feb-13 19:58:03] # 100  0  3  0  0   0 pool:  3 741485922 bases/GPU/minute: 1112228883.0 \n",
						"[PB Info 2025-Feb-13 19:58:12] Time spent reading: 6.017737 seconds\n",
						"[PB Info 2025-Feb-13 19:58:13] # 43  0  4  0  0  16 pool: 60 3528668815 bases/GPU/minute: 4180774339.5 \n",
						"[PB Info 2025-Feb-13 19:58:14] GPU 1 exited\n",
						"[PB Info 2025-Feb-13 19:58:14] GPU 1 exited\n",
						"[PB Info 2025-Feb-13 19:58:14] GPU 3 exited\n",
						"[PB Info 2025-Feb-13 19:58:14] GPU 3 exited\n",
						"[PB Info 2025-Feb-13 19:58:14] GPU 1 exited\n",
						"[PB Info 2025-Feb-13 19:58:14] GPU 1 exited\n",
						"[PB Info 2025-Feb-13 19:58:14] GPU 3 exited\n",
						"[PB Info 2025-Feb-13 19:58:14] GPU 2 exited\n",
						"[PB Info 2025-Feb-13 19:58:14] GPU 2 exited\n",
						"[PB Info 2025-Feb-13 19:58:14] GPU 0 exited\n",
						"[PB Info 2025-Feb-13 19:58:14] GPU 0 exited\n",
						"[PB Info 2025-Feb-13 19:58:14] GPU 0 exited\n",
						"[PB Info 2025-Feb-13 19:58:14] GPU 0 exited\n",
						"[PB Info 2025-Feb-13 19:58:14] GPU 3 exited\n",
						"[PB Info 2025-Feb-13 19:58:14] GPU 2 exited\n",
						"[PB Info 2025-Feb-13 19:58:14] GPU 2 exited\n",
						"[PB Info 2025-Feb-13 19:58:14] A CPU has exited\n",
						"[PB Info 2025-Feb-13 19:58:14] A CPU has exited\n",
						"[PB Info 2025-Feb-13 19:58:14] A CPU has exited\n",
						"[PB Info 2025-Feb-13 19:58:14] A CPU has exited\n",
						"[PB Info 2025-Feb-13 19:58:23] Rate stats (based on sampling every 10 seconds):\n",
						"\tmin rate: 1112228883.0 bases/GPU/minute\n",
						"\tmax rate: 4180774339.5 bases/GPU/minute\n",
						"\tavg rate: 2646501611.2 bases/GPU/minute\n",
						"[PB Info 2025-Feb-13 19:58:23] Time spent monitoring (multiple of 10): 30.001\n",
						"[PB Info 2025-Feb-13 19:58:23] bwalib run finished in 23.267 seconds\n",
						"[PB Info 2025-Feb-13 19:58:23] ------------------------------------------------------------------------------\n",
						"[PB Info 2025-Feb-13 19:58:23] ||        Program:                    GPU-PBBWA mem, Sorting Phase-I        ||\n",
						"[PB Info 2025-Feb-13 19:58:23] ||        Version:                                           4.4.0-1        ||\n",
						"[PB Info 2025-Feb-13 19:58:23] ||        Start Time:                       Thu Feb 13 19:57:53 2025        ||\n",
						"[PB Info 2025-Feb-13 19:58:23] ||        End Time:                         Thu Feb 13 19:58:23 2025        ||\n",
						"[PB Info 2025-Feb-13 19:58:23] ||        Total Time:                                     30 seconds        ||\n",
						"[PB Info 2025-Feb-13 19:58:23] ------------------------------------------------------------------------------\n",
						"[PB Info 2025-Feb-13 19:58:25] ------------------------------------------------------------------------------\n",
						"[PB Info 2025-Feb-13 19:58:25] ||                 Parabricks accelerated Genomics Pipeline                 ||\n",
						"[PB Info 2025-Feb-13 19:58:25] ||                              Version 4.4.0-1                             ||\n",
						"[PB Info 2025-Feb-13 19:58:25] ||                             Sorting Phase-II                             ||\n",
						"[PB Info 2025-Feb-13 19:58:25] ------------------------------------------------------------------------------\n",
						"[PB Info 2025-Feb-13 19:58:25] progressMeter - Percentage\n",
						"[PB Info 2025-Feb-13 19:58:25] 0.0\n",
						"[PB Info 2025-Feb-13 19:58:30] Sorting and Marking: 5.000 seconds\n",
						"[PB Info 2025-Feb-13 19:58:30] ------------------------------------------------------------------------------\n",
						"[PB Info 2025-Feb-13 19:58:30] ||        Program:                                  Sorting Phase-II        ||\n",
						"[PB Info 2025-Feb-13 19:58:30] ||        Version:                                           4.4.0-1        ||\n",
						"[PB Info 2025-Feb-13 19:58:30] ||        Start Time:                       Thu Feb 13 19:58:25 2025        ||\n",
						"[PB Info 2025-Feb-13 19:58:30] ||        End Time:                         Thu Feb 13 19:58:30 2025        ||\n",
						"[PB Info 2025-Feb-13 19:58:30] ||        Total Time:                                      5 seconds        ||\n",
						"[PB Info 2025-Feb-13 19:58:30] ------------------------------------------------------------------------------\n",
						"[PB Info 2025-Feb-13 19:58:30] ------------------------------------------------------------------------------\n",
						"[PB Info 2025-Feb-13 19:58:30] ||                 Parabricks accelerated Genomics Pipeline                 ||\n",
						"[PB Info 2025-Feb-13 19:58:30] ||                              Version 4.4.0-1                             ||\n",
						"[PB Info 2025-Feb-13 19:58:30] ||                         Marking Duplicates, BQSR                         ||\n",
						"[PB Info 2025-Feb-13 19:58:30] ------------------------------------------------------------------------------\n",
						"[PB Info 2025-Feb-13 19:58:30] Using PBBinBamFile for BAM writing\n",
						"[PB Info 2025-Feb-13 19:58:30] progressMeter -\tPercentage\n",
						"[PB Info 2025-Feb-13 19:58:40] 100.0\n",
						"[PB Info 2025-Feb-13 19:58:40] BQSR and writing final BAM:  10.039 seconds\n",
						"[PB Info 2025-Feb-13 19:58:40] ------------------------------------------------------------------------------\n",
						"[PB Info 2025-Feb-13 19:58:40] ||        Program:                          Marking Duplicates, BQSR        ||\n",
						"[PB Info 2025-Feb-13 19:58:40] ||        Version:                                           4.4.0-1        ||\n",
						"[PB Info 2025-Feb-13 19:58:40] ||        Start Time:                       Thu Feb 13 19:58:30 2025        ||\n",
						"[PB Info 2025-Feb-13 19:58:40] ||        End Time:                         Thu Feb 13 19:58:40 2025        ||\n",
						"[PB Info 2025-Feb-13 19:58:40] ||        Total Time:                                     10 seconds        ||\n",
						"[PB Info 2025-Feb-13 19:58:40] ------------------------------------------------------------------------------\n"
					]
				},
				{
					"name": "stdout",
					"output_type": "stream",
					"text": [
						"Please visit https://docs.nvidia.com/clara/#parabricks for detailed documentation\n",
						"\n",
						"\n"
					]
				}
			],
			"source": [
				"%%sh\n",
				"\n",
				"DOCKER_IMAGE=\"nvcr.io/nvidia/clara/clara-parabricks:4.4.0-1\"\n",
				"\n",
				"DATA_DIR=\"$PWD/data\"\n",
				"\n",
				"REF=\"ref/Homo_sapiens_assembly38.fasta\"\n",
				"FASTQ_1=\"NIST7035_TAAGGCGA_L001_R1_001.fastq.gz\"\n",
				"FASTQ_2=\"NIST7035_TAAGGCGA_L001_R2_001.fastq.gz\"\n",
				"OUT_BAM=\"NIST7035_TAAGGCGA_L001_R1_001.bam\"\n",
				"\n",
				"docker run --gpus all --rm \\\n",
				"    -v ${DATA_DIR}:${DATA_DIR} \\\n",
				"    -w ${DATA_DIR} \\\n",
				"    ${DOCKER_IMAGE} pbrun fq2bam \\\n",
				"    --ref ${REF} \\\n",
				"    --in-fq ${FASTQ_1} ${FASTQ_2} \\\n",
				"    --out-bam ${OUT_BAM}"
			]
		},
		{
			"cell_type": "markdown",
			"metadata": {},
			"source": [
				"Looking in the data folder now, we now see the generated bam files. "
			]
		},
		{
			"cell_type": "code",
			"execution_count": 11,
			"metadata": {},
			"outputs": [
				{
					"name": "stdout",
					"output_type": "stream",
					"text": [
						"NIST7035_TAAGGCGA_L001_R1_001.bam\n",
						"NIST7035_TAAGGCGA_L001_R1_001.bam.bai\n"
					]
				}
			],
			"source": [
				"! ls data | grep .bam"
			]
		},
		{
			"cell_type": "markdown",
			"metadata": {},
			"source": [
				"\n",
				"## Variant Calling"
			]
		},
		{
			"cell_type": "markdown",
			"metadata": {},
			"source": [
				"In this step we will run [Parabricks DeepVariant](https://docs.nvidia.com/clara/parabricks/latest/documentation/tooldocs/man_deepvariant.html). Since we are using exomes, we must include the `--use-wes-model` flag. "
			]
		},
		{
			"cell_type": "code",
			"execution_count": null,
			"metadata": {},
			"outputs": [
				{
					"name": "stdout",
					"output_type": "stream",
					"text": [
						"Detected 4 CUDA Capable device(s), considering 4 device(s)\n",
						"  CUDA Driver Version / Runtime Version          12.7 / 12.3\n",
						"Using model for CUDA Capability Major/Minor version number:    80\n"
					]
				},
				{
					"name": "stderr",
					"output_type": "stream",
					"text": [
						"[PB Info 2025-Feb-13 20:01:03] ------------------------------------------------------------------------------\n",
						"[PB Info 2025-Feb-13 20:01:03] ||                 Parabricks accelerated Genomics Pipeline                 ||\n",
						"[PB Info 2025-Feb-13 20:01:03] ||                              Version 4.4.0-1                             ||\n",
						"[PB Info 2025-Feb-13 20:01:03] ||                                deepvariant                               ||\n",
						"[PB Info 2025-Feb-13 20:01:03] ------------------------------------------------------------------------------\n",
						"[PB Info 2025-Feb-13 20:01:03] Starting DeepVariant\n",
						"[PB Info 2025-Feb-13 20:01:03] Running with 4 GPU devices, each with 2 group instances and 6 workers\n",
						"[PB Info 2025-Feb-13 20:01:03] ProgressMeter -\tCurrent-Locus\tElapsed-Minutes\n",
						"[PB Info 2025-Feb-13 20:01:09] ProgressMeter -\tchr1:14000\t0.1\n",
						"[PB Info 2025-Feb-13 20:01:15] ProgressMeter -\tchr3:52228000\t0.2\n",
						"[PB Info 2025-Feb-13 20:01:21] ProgressMeter -\tchr7:105174000\t0.3\n",
						"[PB Info 2025-Feb-13 20:01:27] ProgressMeter -\tchr12:13128000\t0.4\n",
						"[PB Info 2025-Feb-13 20:01:33] ProgressMeter -\tchr17:28400000\t0.5\n",
						"[PB Info 2025-Feb-13 20:01:39] Deepvariant is finished, total time is 36.366 seconds\n",
						"[PB Info 2025-Feb-13 20:01:39] ------------------------------------------------------------------------------\n",
						"[PB Info 2025-Feb-13 20:01:39] ||        Program:                                       deepvariant        ||\n",
						"[PB Info 2025-Feb-13 20:01:39] ||        Version:                                           4.4.0-1        ||\n",
						"[PB Info 2025-Feb-13 20:01:39] ||        Start Time:                       Thu Feb 13 20:01:03 2025        ||\n",
						"[PB Info 2025-Feb-13 20:01:39] ||        End Time:                         Thu Feb 13 20:01:39 2025        ||\n",
						"[PB Info 2025-Feb-13 20:01:39] ||        Total Time:                                     36 seconds        ||\n",
						"[PB Info 2025-Feb-13 20:01:39] ------------------------------------------------------------------------------\n"
					]
				},
				{
					"name": "stdout",
					"output_type": "stream",
					"text": [
						"/usr/local/parabricks/binaries/bin/deepvariant /home/gburnett/repos/parabricks-germline-brevdev/data/ref/Homo_sapiens_assembly38.fasta /home/gburnett/repos/parabricks-germline-brevdev/data/NIST7035_TAAGGCGA_L001_R1_001.bam 4 2 -o /home/gburnett/repos/parabricks-germline-brevdev/data/NIST7035_TAAGGCGA_L001_R1_001.vcf -n 6 --model /usr/local/parabricks/binaries/model/80+/shortread/deepvariant_wes.eng --channel_insert_size --pileup_image_width 221 --max_reads_per_partition 1500 --partition_size 1000 --vsc_min_count_snps 2 --vsc_min_count_indels 2 --vsc_min_fraction_snps 0.12 --min_mapping_quality 5 --min_base_quality 10 --alt_aligned_pileup none --variant_caller VERY_SENSITIVE_CALLER --dbg_min_base_quality 15 --ws_min_windows_distance 80 --aux_fields_to_keep HP --p_error 0.001 --max_ins_size 10\n",
						"Variant caller done, total time: 0.6 min\n",
						"Please visit https://docs.nvidia.com/clara/#parabricks for detailed documentation\n",
						"\n"
					]
				}
			],
			"source": [
				"%%sh\n",
				"\n",
				"DOCKER_IMAGE=\"nvcr.io/nvidia/clara/clara-parabricks:4.4.0-1\"\n",
				"\n",
				"DATA_DIR=\"$PWD/data\"\n",
				"\n",
				"REF=\"ref/Homo_sapiens_assembly38.fasta\"\n",
				"IN_BAM=\"NIST7035_TAAGGCGA_L001_R1_001.bam\"\n",
				"OUT_VCF=\"NIST7035_TAAGGCGA_L001_R1_001.vcf\"\n",
				"\n",
				"docker run --gpus all --rm \\\n",
				"    -v ${DATA_DIR}:${DATA_DIR} \\\n",
				"    -w ${DATA_DIR} \\\n",
				"    ${DOCKER_IMAGE} pbrun deepvariant \\\n",
				"    --ref ${REF} \\\n",
				"    --in-bam ${IN_BAM} \\\n",
				"    --out-variants ${OUT_VCF} \\\n",
				"    --use-wes-model"
			]
		},
		{
			"cell_type": "markdown",
			"metadata": {},
			"source": [
				"Looking in the data folder now, we now see the generated vcf files. "
			]
		},
		{
			"cell_type": "code",
			"execution_count": 12,
			"metadata": {},
			"outputs": [
				{
					"name": "stdout",
					"output_type": "stream",
					"text": [
						"NIST7035_TAAGGCGA_L001_R1_001.vcf\n"
					]
				}
			],
			"source": [
				"! ls data | grep .vcf"
			]
		},
		{
			"cell_type": "markdown",
			"metadata": {},
			"source": [
				"## Concordance"
			]
		},
		{
			"cell_type": "code",
			"execution_count": 15,
			"metadata": {},
			"outputs": [
				{
					"name": "stderr",
					"output_type": "stream",
					"text": [
						"2025-02-13 20:17:06,227 WARNING  No reference file found at default locations. You can set the environment variable 'HGREF' or 'HG19' to point to a suitable Fasta file.\n"
					]
				},
				{
					"name": "stderr",
					"output_type": "stream",
					"text": [
						"Warning: The index file is older than the data file: HG001_GRCh38_1_22_v4.2.1_benchmark.vcf.gz.tbi\n",
						"[W] overlapping records at chr6:29747431 for sample 0\n",
						"[W] Variants that overlap on the reference allele: 6\n",
						"[I] Total VCF records:         3893341\n",
						"[I] Non-reference VCF records: 3893341\n",
						"[W] overlapping records at chr10:104040598 for sample 0\n",
						"[W] Variants that overlap on the reference allele: 3\n",
						"[I] Total VCF records:         332986\n",
						"[I] Non-reference VCF records: 257370\n"
					]
				},
				{
					"name": "stdout",
					"output_type": "stream",
					"text": [
						"Hap.py \n"
					]
				},
				{
					"name": "stderr",
					"output_type": "stream",
					"text": [
						"2025-02-13 20:20:01,883 WARNING  Creating template for vcfeval. You can speed this up by supplying a SDF template that corresponds to ref/Homo_sapiens_assembly38.fasta\n"
					]
				},
				{
					"name": "stdout",
					"output_type": "stream",
					"text": [
						"Benchmarking Summary:\n",
						"Type Filter  TRUTH.TOTAL  TRUTH.TP  TRUTH.FN  QUERY.TOTAL  QUERY.FP  QUERY.UNK  FP.gt  FP.al  METRIC.Recall  METRIC.Precision  METRIC.Frac_NA  METRIC.F1_Score  TRUTH.TOTAL.TiTv_ratio  QUERY.TOTAL.TiTv_ratio  TRUTH.TOTAL.het_hom_ratio  QUERY.TOTAL.het_hom_ratio\n",
						"INDEL    ALL       467702     11766    455936        23007      4955       6217   3034    507       0.025157          0.704884        0.270222         0.048580                     NaN                     NaN                   1.456462                   0.543054\n",
						"INDEL   PASS       467702     11766    455936        23007      4955       6217   3034    507       0.025157          0.704884        0.270222         0.048580                     NaN                     NaN                   1.456462                   0.543054\n",
						"  SNP    ALL      3254386    133786   3120600       226829     69163      23867  34485   2834       0.041109          0.659232        0.105220         0.077393                2.110694                 1.56343                   1.526276                   0.367302\n",
						"  SNP   PASS      3254386    133786   3120600       226829     69163      23867  34485   2834       0.041109          0.659232        0.105220         0.077393                2.110694                 1.56343                   1.526276                   0.367302\n"
					]
				}
			],
			"source": [
				"%%sh\n",
				"\n",
				"DATA_DIR=\"$PWD/data\"\n",
				"\n",
				"REF=\"ref/Homo_sapiens_assembly38.fasta\"\n",
				"EVAL_VCF=\"NIST7035_TAAGGCGA_L001_R1_001.vcf\"\n",
				"TRUTH_VCF=\"HG001_GRCh38_1_22_v4.2.1_benchmark.vcf.gz\"\n",
				"TRUTH_BED=\"HG001_GRCh38_1_22_v4.2.1_benchmark.bed\"\n",
				"OUT_FILE=\"NIST7035_TAAGGCGA_L001_R1_001.output\"\n",
				"\n",
				"docker run \\\n",
				"    -v ${DATA_DIR}:${DATA_DIR} \\\n",
				"    -w ${DATA_DIR} \\\n",
				"    jmcdani20/hap.py:v0.3.12 /opt/hap.py/bin/hap.py \\\n",
				"    ${TRUTH_VCF} \\\n",
				"    ${EVAL_VCF} \\\n",
				"    -f ${TRUTH_BED} \\\n",
				"    -r ${REF} \\\n",
				"    -o ${OUT_FILE} \\\n",
				"    --engine=vcfeval \\\n",
				"    --pass-only"
			]
		},
		{
			"cell_type": "markdown",
			"metadata": {},
			"source": [
				"## Next Steps"
			]
		},
		{
			"cell_type": "markdown",
			"metadata": {},
			"source": [
				"Try running Germline analysis on your own data. "
			]
		}
	],
	"metadata": {
		"kernelspec": {
			"display_name": "Python 3",
			"language": "python",
			"name": "python3"
		},
		"language_info": {
			"codemirror_mode": {
				"name": "ipython",
				"version": 3
			},
			"file_extension": ".py",
			"mimetype": "text/x-python",
			"name": "python",
			"nbconvert_exporter": "python",
			"pygments_lexer": "ipython3",
			"version": "3.10.12"
		}
	},
	"nbformat": 4,
	"nbformat_minor": 2
}
